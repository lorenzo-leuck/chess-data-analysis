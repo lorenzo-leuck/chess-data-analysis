{
 "cells": [
  {
   "cell_type": "markdown",
   "id": "c954c0ec-5bcb-4b6d-9f93-3f560bbe5987",
   "metadata": {},
   "source": [
    "# Download"
   ]
  },
  {
   "cell_type": "code",
   "execution_count": null,
   "id": "545f779b-1be1-4bf2-880c-400cdae3c998",
   "metadata": {
    "lines_to_next_cell": 2
   },
   "outputs": [],
   "source": [
    "install.packages(\"knitr\")\n",
    "install.packages(\"dplyr\")\n",
    "install.packages(\"stringr\")"
   ]
  },
  {
   "cell_type": "markdown",
   "id": "8e704be8-c08d-44d5-8590-fa0f60dd28c3",
   "metadata": {},
   "source": [
    "### Introduction\n",
    "\n",
    "The purpose of this document is to show how I downloaded all of the standard rating files from the FIDE organizations website."
   ]
  },
  {
   "cell_type": "markdown",
   "id": "70beb36e-f34f-4cdf-af72-0cc69dcebee1",
   "metadata": {},
   "source": [
    "### Import libraries\n",
    "\n",
    "I don't think any packages are necessary to download any of the files. Still though, I use `knitr` and `dplyr` to display a table of urls that we will call on to download from later on."
   ]
  },
  {
   "cell_type": "code",
   "execution_count": 1,
   "id": "ca1e682e-0da0-494c-b582-49269cf3e45e",
   "metadata": {
    "lines_to_next_cell": 2,
    "message": false,
    "warning": false
   },
   "outputs": [
    {
     "name": "stderr",
     "output_type": "stream",
     "text": [
      "\n",
      "Attaching package: 'dplyr'\n",
      "\n",
      "\n",
      "The following objects are masked from 'package:stats':\n",
      "\n",
      "    filter, lag\n",
      "\n",
      "\n",
      "The following objects are masked from 'package:base':\n",
      "\n",
      "    intersect, setdiff, setequal, union\n",
      "\n",
      "\n"
     ]
    }
   ],
   "source": [
    "library(knitr)\n",
    "library(dplyr)\n",
    "library(stringr)"
   ]
  },
  {
   "cell_type": "markdown",
   "id": "d42c60c1-8049-4735-bf27-5cabc27f2d90",
   "metadata": {},
   "source": [
    "### Set up working directory\n",
    "\n",
    "Before proceeding, we need to set up a working directory to store all of the downloaded files. Make sure to have an empty folder you can dump the files into. I've created a `Downloaded files` subfolder within the folder of this `.Rmd` document.\n",
    "\n",
    "**IMPORTANT: Please adjust `path` to the path of the folder you want the data to be in.**\n",
    "\n",
    "If you're not sure how to set your directory, you can choose `path` interactively using `choose.dir()`. If you choose to do so, make sure to comment out the first line and uncomment out the 2nd line.\n"
   ]
  },
  {
   "cell_type": "code",
   "execution_count": 23,
   "id": "85e0f494-f46c-4385-9c85-934fb0a67b26",
   "metadata": {},
   "outputs": [],
   "source": [
    "# path = \"~/download\"\n",
    "path = choose.dir()\n",
    "\n",
    "opts_knit$set(root.dir = path)"
   ]
  },
  {
   "cell_type": "markdown",
   "id": "91451d3e-e982-4941-b3d6-b025974a1648",
   "metadata": {},
   "source": [
    "### FIDE file format"
   ]
  },
  {
   "cell_type": "markdown",
   "id": "a76c3f4b-cff3-4ddf-8e53-281080ff0f65",
   "metadata": {},
   "source": [
    "R's default is to adjust all numbers, beginning with 0, and truncatte the leading zeros. \n",
    "\n",
    "Below we setup many useful vectors of strings that will be useful for creating urls that we will download the `.zip` files from."
   ]
  },
  {
   "cell_type": "code",
   "execution_count": 24,
   "id": "1de2dd5e-5597-46f1-b4c2-c78d2b670338",
   "metadata": {},
   "outputs": [
    {
     "data": {
      "text/html": [
       "'jan22frl.zip'"
      ],
      "text/latex": [
       "'jan22frl.zip'"
      ],
      "text/markdown": [
       "'jan22frl.zip'"
      ],
      "text/plain": [
       "[1] \"jan22frl.zip\""
      ]
     },
     "metadata": {},
     "output_type": "display_data"
    }
   ],
   "source": [
    "year_vector <- as.character(1:as.numeric(substr(Sys.Date(), 3, 4)))\n",
    "month_vector <- tolower(substr(month.name, 1, 3))\n",
    "url_vector = url_vect_destfile = rep(0, length(month_vector)*length(year_vector))\n",
    "\n",
    "for(i in 1:length(year_vector)){\n",
    "  if(nchar(year_vector[i]) == 1){\n",
    "    year_vector[i] = paste(\"0\", year_vector[i], sep = \"\")\n",
    "  }\n",
    "}\n",
    "\n",
    "latest <- format(Sys.Date(), format=\"%b%Y\")\n",
    "latest <- paste(tolower(substr(latest, 1, 1)), substr(latest, 2, 3), substr(latest, nchar(latest)-1, nchar(latest)), \"frl.zip\", sep = \"\")\n",
    "\n",
    "latest"
   ]
  },
  {
   "cell_type": "markdown",
   "id": "0b777fcf-362d-41d2-8010-277054c6ae78",
   "metadata": {},
   "source": [
    "`latest` tells us the most recent file FIDE should have hosted on their website."
   ]
  },
  {
   "cell_type": "markdown",
   "id": "f144d149-6505-46e6-a545-12576f2ed846",
   "metadata": {},
   "source": [
    "Below, we put it all together using a somewhat ugly for loop, but it accomplishes our job nicely to create the urls we desire. Note that in August 2014 (which explains the `else if` statement at the 140th iteration), FIDE added an extra word, \"standard_\" to the URLs to be downloaded from. "
   ]
  },
  {
   "cell_type": "code",
   "execution_count": 25,
   "id": "4b4bdc58-1cc6-4d0d-8823-cbee89935d5d",
   "metadata": {},
   "outputs": [],
   "source": [
    "for(i in seq_along(year_vector)){\n",
    "  for(j in seq_along(month_vector)){\n",
    "    if(12*(i-1)+j <= 140){\n",
    "      url_vector[12*(i-1)+j] = paste(\"http://ratings.fide.com/download/\", \n",
    "                                     month_vector[j], \n",
    "                                     year_vector[i], \n",
    "                                     \"frl.zip\", \n",
    "                                     sep = \"\")\n",
    "    }\n",
    "    else if(12*(i-1)+j > 140){\n",
    "      url_vector[12*(i-1)+j] = paste(\"http://ratings.fide.com/download/standard_\", \n",
    "                                     month_vector[j], \n",
    "                                     year_vector[i], \n",
    "                                     \"frl.zip\", \n",
    "                                     sep = \"\")\n",
    "    }\n",
    "    url_vect_destfile[12*(i-1)+j] <- substr(url_vector[12*(i-1)+j], nchar(url_vector[12*(i-1)+j])- 11 , nchar(url_vector[12*(i-1)+j]))\n",
    "  }\n",
    "}\n",
    "\n",
    "url_vect_destfile <- url_vect_destfile[1:which(url_vect_destfile == latest)]\n",
    "url_vector <- url_vector[1:which(url_vect_destfile == latest)]\n",
    "\n",
    "rm(list=setdiff(ls(), c(\"url_vector\", \"url_vect_destfile\")))"
   ]
  },
  {
   "cell_type": "code",
   "execution_count": 26,
   "id": "648232c7-9b94-4a1d-bf9d-8f0b52963ab8",
   "metadata": {},
   "outputs": [],
   "source": [
    "# url_vector <- tail(url_vector,25)\n",
    "# url_vect_destfile <- tail(url_vect_destfile,25)"
   ]
  },
  {
   "cell_type": "markdown",
   "id": "153345e5-16d6-4d9a-9a07-c642adffe5d3",
   "metadata": {},
   "source": [
    "\n",
    "\n",
    "### URLs and their files"
   ]
  },
  {
   "cell_type": "code",
   "execution_count": 30,
   "id": "16c2dc6b-72b6-4097-ab31-3aeca7d08fa3",
   "metadata": {
    "tags": [
     "remove_input"
    ]
   },
   "outputs": [
    {
     "data": {
      "text/plain": [
       "\n",
       "\n",
       "|URL                                                    |File         |\n",
       "|:------------------------------------------------------|:------------|\n",
       "|http://ratings.fide.com/download/standard_jan20frl.zip |jan20frl.zip |\n",
       "|http://ratings.fide.com/download/standard_feb20frl.zip |feb20frl.zip |\n",
       "|http://ratings.fide.com/download/standard_mar20frl.zip |mar20frl.zip |\n",
       "|http://ratings.fide.com/download/standard_apr20frl.zip |apr20frl.zip |\n",
       "|http://ratings.fide.com/download/standard_may20frl.zip |may20frl.zip |\n",
       "|http://ratings.fide.com/download/standard_sep21frl.zip |sep21frl.zip |\n",
       "|http://ratings.fide.com/download/standard_oct21frl.zip |oct21frl.zip |\n",
       "|http://ratings.fide.com/download/standard_nov21frl.zip |nov21frl.zip |\n",
       "|http://ratings.fide.com/download/standard_dec21frl.zip |dec21frl.zip |\n",
       "|http://ratings.fide.com/download/standard_jan22frl.zip |jan22frl.zip |"
      ]
     },
     "metadata": {},
     "output_type": "display_data"
    }
   ],
   "source": [
    "data.frame(URL = url_vector,\n",
    "           File = url_vect_destfile)%>%\n",
    "slice(c(1:5, (n()-4):n()))%>% #first/last 5 observations\n",
    "kable()"
   ]
  },
  {
   "cell_type": "markdown",
   "id": "0d30a3c8-abb2-4a8b-8320-2e602366b52e",
   "metadata": {},
   "source": [
    "Above is a trimmed table of URLs and their corallary files. This is what what will be inputted in the `download_all()` function down below.\n",
    "\n",
    "### Download all chess files silently\n",
    "\n",
    "I'm fairly sure you can remove the two lines involving `old`, but I'd keep them in case you start to get spammed with messages.\n",
    "\n",
    "`download_all()` quietly checks each URL we will visit and downloads the file present at each URL. If a file doesn't exist at a URL (many of the early year URLs don't), then the function skips over the error.\n",
    "\n",
    "**Note:** Download times vary!"
   ]
  },
  {
   "cell_type": "code",
   "execution_count": 34,
   "id": "7ea06630-8ffb-4b75-b239-29b21f937e0b",
   "metadata": {
    "eval": false,
    "lines_to_next_cell": 2
   },
   "outputs": [],
   "source": [
    "download_all <- function(link, dest){\n",
    "  if (!file.exists(dest)) {\n",
    "    tryCatch({\n",
    "      download.file(link, dest, method=\"auto\", quiet = TRUE) \n",
    "    }, error=function(e){})\n",
    "  }\n",
    "}\n",
    "\n",
    "\n",
    "old <- getOption(\"warn\"); options(warn = -1)\n",
    "invisible(mapply(download_all, url_vector, url_vect_destfile))\n",
    "options(warn = old)"
   ]
  },
  {
   "cell_type": "markdown",
   "id": "fa839993-c1e2-42f2-bd3f-9c4771be1c02",
   "metadata": {},
   "source": [
    "### Unzipping and cleaning \n",
    "\n",
    "Some brief housecleaning is taken care of below After the step below, you should only have text files in the directory you set at the beginning. All that's done below is unzipping the `.zip` files and deleting the `.zip` files."
   ]
  },
  {
   "cell_type": "code",
   "execution_count": 35,
   "id": "33f741f5-715a-4959-9b0b-d26fdd324be4",
   "metadata": {
    "lines_to_next_cell": 2
   },
   "outputs": [],
   "source": [
    "invisible(sapply(list.files(pattern = \"*.zip\"), function(x) unzip(x, exdir = getwd())))\n",
    "\n",
    "unlink(list.files(pattern = \"*.zip\"))"
   ]
  },
  {
   "cell_type": "markdown",
   "id": "c6e0bb97-6bff-4349-8547-c449c12b8134",
   "metadata": {},
   "source": [
    "Lastly, we can verify what is in our directory."
   ]
  },
  {
   "cell_type": "code",
   "execution_count": 36,
   "id": "d7d99458-0429-4445-b4e6-63af53ab0d11",
   "metadata": {},
   "outputs": [
    {
     "data": {
      "text/html": [
       "<style>\n",
       ".list-inline {list-style: none; margin:0; padding: 0}\n",
       ".list-inline>li {display: inline-block}\n",
       ".list-inline>li:not(:last-child)::after {content: \"\\00b7\"; padding: 0 .5ex}\n",
       "</style>\n",
       "<ol class=list-inline><li>'standard_apr20frl.txt'</li><li>'standard_apr21frl.txt'</li><li>'standard_aug20frl.txt'</li><li>'standard_aug21frl.txt'</li><li>'standard_dec20frl.txt'</li><li>'standard_dec21frl.txt'</li></ol>\n"
      ],
      "text/latex": [
       "\\begin{enumerate*}\n",
       "\\item 'standard\\_apr20frl.txt'\n",
       "\\item 'standard\\_apr21frl.txt'\n",
       "\\item 'standard\\_aug20frl.txt'\n",
       "\\item 'standard\\_aug21frl.txt'\n",
       "\\item 'standard\\_dec20frl.txt'\n",
       "\\item 'standard\\_dec21frl.txt'\n",
       "\\end{enumerate*}\n"
      ],
      "text/markdown": [
       "1. 'standard_apr20frl.txt'\n",
       "2. 'standard_apr21frl.txt'\n",
       "3. 'standard_aug20frl.txt'\n",
       "4. 'standard_aug21frl.txt'\n",
       "5. 'standard_dec20frl.txt'\n",
       "6. 'standard_dec21frl.txt'\n",
       "\n",
       "\n"
      ],
      "text/plain": [
       "[1] \"standard_apr20frl.txt\" \"standard_apr21frl.txt\" \"standard_aug20frl.txt\"\n",
       "[4] \"standard_aug21frl.txt\" \"standard_dec20frl.txt\" \"standard_dec21frl.txt\""
      ]
     },
     "metadata": {},
     "output_type": "display_data"
    }
   ],
   "source": [
    "list.files(pattern = \"*.txt\")%>%\n",
    "head()"
   ]
  },
  {
   "cell_type": "markdown",
   "id": "96b08fc4-f2f5-41f3-828a-656b032255f6",
   "metadata": {},
   "source": [
    "As we can see, we can see the downloaded and unzipped text files: Success!"
   ]
  },
  {
   "cell_type": "markdown",
   "id": "63f13964-4b3c-40f8-b207-755ac2c2ecea",
   "metadata": {},
   "source": [
    "### Blitz & Rapid data\n",
    "\n",
    "Likewise, we can repeat the same steps on the blitz and rapid data sets.\n",
    "\n",
    "### Blitz"
   ]
  },
  {
   "cell_type": "code",
   "execution_count": null,
   "id": "fa66b14a-6fe5-4157-b77b-f26099a84e6f",
   "metadata": {},
   "outputs": [],
   "source": [
    "blitz_path = \"~/GitHub/FIDE/Chess Scripts/Step 1 - Download/Blitz\"\n",
    "\n",
    "blitz = url_vector[141:length(url_vector)]%>%\n",
    "        str_replace(\"standard\", \"blitz\")\n",
    "\n",
    "blitz_dest = url_vect_destfile[141:length(url_vector)]\n",
    "\n",
    "opts_knit$set(root.dir = blitz_path)\n",
    "\n",
    "mapply(download_all, blitz, blitz_dest)\n",
    "\n",
    "invisible(sapply(list.files(pattern = \"*.zip\"), function(x) unzip(x, exdir = getwd())))\n",
    "\n",
    "unlink(list.files(pattern = \"*.zip\"))"
   ]
  },
  {
   "cell_type": "markdown",
   "id": "1c04ff09-a823-4e9e-88df-35a690656bf9",
   "metadata": {},
   "source": [
    "### Rapid"
   ]
  },
  {
   "cell_type": "code",
   "execution_count": null,
   "id": "747c21eb-459b-4e8b-a09d-57364c025206",
   "metadata": {
    "lines_to_next_cell": 2
   },
   "outputs": [],
   "source": [
    "\n",
    "rapid_path = \"~/GitHub/FIDE/Chess Scripts/Step 1 - Download/Rapid\"\n",
    "\n",
    "\n",
    "rapid = url_vector[141:length(url_vector)]%>%\n",
    "        str_replace(\"standard\", \"rapid\")\n",
    "\n",
    "rapid_dest = url_vect_destfile[141:length(url_vector)]\n",
    "\n",
    "opts_knit$set(root.dir = rapid_path)\n",
    "\n",
    "mapply(download_all, rapid, rapid_dest)\n",
    "\n",
    "invisible(sapply(list.files(pattern = \"*.zip\"), function(x) unzip(x, exdir = getwd())))\n",
    "\n",
    "unlink(list.files(pattern = \"*.zip\"))"
   ]
  },
  {
   "cell_type": "markdown",
   "id": "16626341-fd2e-4292-8e33-c17c516ed3d8",
   "metadata": {},
   "source": [
    "# Reformat"
   ]
  },
  {
   "cell_type": "markdown",
   "id": "1558e09c-7af3-47b2-87d0-aa74e67c6d79",
   "metadata": {},
   "source": [
    "The purpose of this document is to how to process the text files we have previously seen in `Download.pdf` within the Step 1 folder."
   ]
  },
  {
   "cell_type": "markdown",
   "id": "4447ef9d-9667-4555-afe6-bda7badd3cfa",
   "metadata": {
    "tags": []
   },
   "source": [
    "### Libraries\n",
    "\n",
    "The first steps to succesfully reformatting all of the text files in the `Downloads files` folder is importing all of the necessary libraries."
   ]
  },
  {
   "cell_type": "code",
   "execution_count": 40,
   "id": "425e30fd-0a83-47b3-b283-84146562291d",
   "metadata": {},
   "outputs": [
    {
     "name": "stdout",
     "output_type": "stream",
     "text": [
      "package 'devtools' successfully unpacked and MD5 sums checked\n",
      "\n",
      "The downloaded binary packages are in\n",
      "\tC:\\Users\\loren\\AppData\\Local\\Temp\\RtmpeOoW6p\\downloaded_packages\n"
     ]
    }
   ],
   "source": [
    "install.packages(\"devtools\")"
   ]
  },
  {
   "cell_type": "code",
   "execution_count": 45,
   "id": "9f7f84ca-e55e-498d-a0b8-b5ee029de70d",
   "metadata": {
    "message": false,
    "warning": false
   },
   "outputs": [],
   "source": [
    "library(knitr)\n",
    "library(tidyverse)\n",
    "library(data.table)\n",
    "\n",
    "library(foreach)\n",
    "library(doParallel)\n",
    "library(stringi)\n",
    "library(lubridate)"
   ]
  },
  {
   "cell_type": "markdown",
   "id": "625d749f-4a11-4127-a4d0-a31b1d064b6a",
   "metadata": {},
   "source": [
    "A very quick summary of why each package is used:\n",
    "\n",
    "- `knitr` is imported to set the working directory for the R-Markdown document.\n",
    "- `tidyverse` is useful for its `%>%` (pipe) operator.\n",
    "- `data.table` is extremely fast for writing dataframes to stored files.\n",
    "- `Kmisc` is used for its `readlines()` which the fast version of R's base function, `readLines()` .\n",
    "- `foreach` and `doParallel` are useful for parallel processing exporting data.frames to csv files"
   ]
  },
  {
   "cell_type": "markdown",
   "id": "be3aaa28-9d5d-43b8-a30c-7b41bb7e4898",
   "metadata": {},
   "source": [
    "### Directories\n",
    "\n",
    "In order to work with the data files in Step 1 and rework them, we need to:\n",
    "\n",
    "1. Assign a path we will import the text files\n",
    "2. Assign a path we will to store the created .csv files"
   ]
  },
  {
   "cell_type": "code",
   "execution_count": 46,
   "id": "d7dbd39c-283a-4e24-a06f-67c98ff8d343",
   "metadata": {},
   "outputs": [],
   "source": [
    "path = choose.dir()"
   ]
  },
  {
   "cell_type": "code",
   "execution_count": 47,
   "id": "9dfe6d94-fc4e-45d7-b10c-3571ca66f33c",
   "metadata": {},
   "outputs": [],
   "source": [
    "destination = choose.dir()\n",
    "opts_knit$set(root.dir = path)"
   ]
  },
  {
   "cell_type": "markdown",
   "id": "9c9a701c-e5a6-43e3-bad5-f12f6ac1d5d7",
   "metadata": {},
   "source": [
    "### Function\n",
    "\n",
    "This is by far the most cumbersome function to read, let alone work through. Long story short, many of the text files are hopelessly formatted:\n",
    "\n",
    "- Some have improperly labeled columns\n",
    "- Some have misspelled columns\n",
    "- Some have their columns out line\n",
    "- Some have blank & missing rows\n",
    "- Some don't even have column headers to begin with\n",
    "\n",
    "I would like to thank Kirsan Ilyumzhinov and his aliens for bestowing the challenge of fixing his organization's publically available files. "
   ]
  },
  {
   "cell_type": "code",
   "execution_count": 48,
   "id": "48f21619-ddd9-463a-9283-f24b9e032348",
   "metadata": {
    "lines_to_next_cell": 0
   },
   "outputs": [],
   "source": [
    "\n",
    "reformat <- function(file_csv, df){\n",
    "\n",
    "#Reformat October 2002\n",
    "if(file_csv == \"OCT02FRL.TXT\"){df[1] <- df[1]%>%\n",
    "                                           gsub(\"COUNTRY\", \"  Fed \", .)%>%\n",
    "                                           gsub(\"GAMES\", \"Gms\", .)%>%\n",
    "                                           gsub(\"BIRTHDAY\", \" BIRTHDAY\", .)}\n",
    "\n",
    "#Reformat April 2003\n",
    "else if(file_csv == \"APR03FRL.TXT\"){df[1] <- df[1]%>%\n",
    "                                          gsub(\"   CODE  \",\"ID_NUMBER\",.)%>%\n",
    "                                          gsub(\"COUNTRY\",\"  FED  \",.)%>%\n",
    "                                          gsub(\" APR03\", \"APR03 \", .)%>%\n",
    "                                          gsub(\" GAMES\", \"GMS   \", .)%>%\n",
    "                                          gsub(\"  BIRTHDAY\", \"BIRTHDAY  \", .)%>%\n",
    "                                          gsub(\" FLAG\", \"FLAG \", .)}\n",
    "\n",
    "#Reformat April, July, October 2004 & January, July 2005\n",
    "else if(file_csv %in% c(\"APR04FRL.TXT\",\"JUL04FRL.TXT\",\"OCT04FRL.TXT\", \n",
    "                        \"JAN05FRL.TXT\", \"JUL05FRL.TXT\")){\n",
    "                                                df[1] <- df[1]%>%\n",
    "                                                gsub(\"COUNTRY\", \"   FED \", . )%>%\n",
    "                                                gsub(\"GAMES\", \"GAME \", .)%>%\n",
    "                                                gsub(\" BIRTHDAY\", \"BIRTHDAY\", .)}\n",
    "\n",
    "#Reformat January 2006 to July 2012\n",
    "else if(file_csv == \"JAN06FRL.TXT\"){df <- df[-2]}\n",
    "else if(file_csv %in% c(\"APR06FRL.TXT\", \"JUL06FRL.TXT\", \"OCT06FRL.TXT\",\n",
    "                      list.files(pattern = \"[0][7-9][Ff][Rr][Ll].[Tt][Xx][Tt]\"),\n",
    "                      list.files(pattern = \"[1][0-1][Ff][Rr][Ll].[Tt][Xx][Tt]\"),\n",
    "                      list.files(pattern = \"[1][2][Ff][Rr][Ll].[Tt][Xx][Tt]\")[1:5])){\n",
    "                      df[1] <- df[1] %>% gsub(\"Titl\", \"Tit \", .)%>%\n",
    "                                         gsub(\"Games\", \"Game \", .)%>%\n",
    "                                         gsub(\"July\", \"Jul\", .)}\n",
    "\n",
    "#Insert underscore to make sure that proper columns are created in the functions afterwards\n",
    "df[1] <- gsub(\"ID Number\", \"ID_NUMBER\", df[1])%>%\n",
    "         gsub(\"ID number\", \"ID_NUMBER\", .)\n",
    "\n",
    "return(df)\n",
    "}\n"
   ]
  },
  {
   "cell_type": "markdown",
   "id": "5f89dfaf-54a1-489b-81c5-cfc63467e212",
   "metadata": {},
   "source": []
  },
  {
   "cell_type": "markdown",
   "id": "690a7e4a-2859-46f0-bc36-2e7ba2c7ecd3",
   "metadata": {},
   "source": [
    "### Indexes\n",
    "\n",
    "All of the text files lack a proper delimeter to import the data on. Any normal dataset with have a comma or tab delimeter, but these have nothing of the sort. Given this, the function below helps tackle this problem. It grabs the column headers of a given text file and finds the indexes at which we need to insert delimeters at."
   ]
  },
  {
   "cell_type": "code",
   "execution_count": 49,
   "id": "10cedf37-af31-4e34-95a0-ce6b102e1962",
   "metadata": {
    "lines_to_next_cell": 2
   },
   "outputs": [],
   "source": [
    "indexes <- function(df){ \n",
    "column_vector<- df[1]\n",
    "indexes <- rep(0, nchar(df[1]))\n",
    "for(i in 1:nchar(column_vector)){\n",
    "    index = grep(\"\\\\s[A-z]\", substr(column_vector, i, i+1))\n",
    "    if (identical(index, integer(0)) == TRUE){indexes[i] = 0}\n",
    "    else {indexes[i] = 1}\n",
    "                                }\n",
    "return(which(indexes == 1))\n",
    "                      }"
   ]
  },
  {
   "cell_type": "markdown",
   "id": "d08a92dc-0fc9-4b7a-8e40-33324de73478",
   "metadata": {},
   "source": [
    "### Insert delimeters quickly\n",
    "\n",
    "As discussed above, we need to insert delimeters at these indexes. Using R's base functions, we can use `utf8ToInt()` and `intToUtf8()`to quickly break down every string into vectors and replace vectors indexes with the delimeter we want. In this case, we will insert a commma. "
   ]
  },
  {
   "cell_type": "code",
   "execution_count": 50,
   "id": "40dc7b25-fcf4-4c65-a6c6-2a7908cfba39",
   "metadata": {
    "lines_to_next_cell": 2
   },
   "outputs": [],
   "source": [
    "utf_func <- function(df, indexed){\n",
    "string <- utf8ToInt(df)\n",
    "string[indexed] <- utf8ToInt(\"*\")\n",
    "return(intToUtf8(string))\n",
    "}"
   ]
  },
  {
   "cell_type": "markdown",
   "id": "c60441b9-3a31-4c9b-8c6a-381db1c941e8",
   "metadata": {},
   "source": [
    "### File rename\n",
    "\n",
    "Each exported file needs to be renamed so the function is helpful for that."
   ]
  },
  {
   "cell_type": "code",
   "execution_count": 51,
   "id": "a03602a8-703f-43a8-b26d-49459fc9068b",
   "metadata": {
    "lines_to_next_cell": 2
   },
   "outputs": [],
   "source": [
    "filenamer <- function(Year_num) {\n",
    "  Year_num%>%\n",
    "  substr(., nchar(.)-11, nchar(.)-7)%>%\n",
    "  toupper()%>%\n",
    "  paste(destination, ., \".csv\", sep = \"\")\n",
    "}"
   ]
  },
  {
   "cell_type": "markdown",
   "id": "48eb6507-dad1-4dcf-ab19-7f96d4e923c5",
   "metadata": {},
   "source": [
    "### Write files\n",
    "\n",
    "Lastly, we need to export the text files using `data.table`'s speedy `fwrite()` function."
   ]
  },
  {
   "cell_type": "code",
   "execution_count": 52,
   "id": "ed7a011f-5179-4e7b-af4d-f13a2ae32052",
   "metadata": {
    "lines_to_next_cell": 2
   },
   "outputs": [],
   "source": [
    "fwrite_wrapper <- function(filename, df){\n",
    "if (file.exists(filename)) {unlink(filename)}\n",
    "fwrite(list(df), file = filename, quote = FALSE)\n",
    "}"
   ]
  },
  {
   "cell_type": "markdown",
   "id": "0f318e9f-58f1-49ff-8ff1-31a642d2cd3e",
   "metadata": {},
   "source": [
    "### All files write\n",
    "\n",
    "Below is a wrapper function that builds on all of the previously stated functions and puts it all together. Some of the files may have blank lines initially so unfortunately, we have to use `readLines()` (a somewhat slow version of `readlines()`, but allows users to read in files beginnign with blank lines)."
   ]
  },
  {
   "cell_type": "code",
   "execution_count": 59,
   "id": "19dd82f3-aeaa-4d9f-b533-e3fc95b31e59",
   "metadata": {},
   "outputs": [],
   "source": [
    "All_files_fwrite <- function(year_vector){\n",
    "text_insert_first = c(\"jul03frl.txt\",\"OCT03FRL.TXT\", \"JAN04FRL.TXT\", \n",
    "                      \"APR05FRL.TXT\", \"jan03frl.txt\")\n",
    "columns = \"ID_NUMBER NAME                            TITLE FED  RATING GM  Bday      Flag \"\n",
    "\n",
    "if(year_vector %in% text_insert_first){\n",
    "df = readLines(year_vector)\n",
    "  if(nchar(df[1]) != 0) {\n",
    "    cat(\"\", df, file = year_vector, sep = \"\\n\")\n",
    "    df <- readLines(year_vector)\n",
    "    df[1] <- columns} else{df[1] <- columns}\n",
    "} else {df = readLines(year_vector)}\n",
    "  \n",
    "df <- reformat(year_vector, df)\n",
    "indexed = indexes(df)\n",
    "df = sapply(df , utf_func, indexed = indexed, USE.NAMES = FALSE)\n",
    "filename <- filenamer(year_vector)\n",
    "fwrite_wrapper(df, file = filename)\n",
    "}\n"
   ]
  },
  {
   "cell_type": "markdown",
   "id": "2e79d1ad-998b-465c-8b4f-90e60b6a61ab",
   "metadata": {},
   "source": [
    "### Multi Processing\n",
    "\n",
    "The first time I ran a for loop that executes `All_files_fwrite()` on every single text file, it took ~20-25 minutes. The following function runs `All_files_fwrite()` in parallel. It took me a while to put it all together because of a few reasons:\n",
    "\n",
    "1. `.export = functions` is necessary to import functions from R's global environment into the parallel processing function environment. Otherwise, global functions & variables aren't detected.\n",
    "\n",
    "2. `detectCores()` is a useful function to check how many cores your computer has. My machine has 8 and it cuts down the original ~20-25 minutes to ~4-5 minutes!\n",
    "\n",
    "3. `.packages = c(\"dplyr\", \"data.table\", \"Kmisc\")` is needed because these packages are heavily involved in many of the functions defined above.\n",
    "\n",
    "4. The rest is setting up a cluster network, which allows for parallel processing."
   ]
  },
  {
   "cell_type": "code",
   "execution_count": 60,
   "id": "95532707-9205-47cb-83be-82bcf5b5e9fa",
   "metadata": {
    "lines_to_next_cell": 2
   },
   "outputs": [],
   "source": [
    "multi_processing <- function(Year_num){\n",
    "                    functions = ls(globalenv())\n",
    "                    cl <- makeCluster(detectCores()) \n",
    "                    clusterExport(cl, functions)\n",
    "                    registerDoParallel(cl)\n",
    "                    foreach(i = Year_num,\n",
    "                            .export = functions,\n",
    "                            .packages = c(\"dplyr\", \n",
    "                                          \"data.table\")) %dopar% {All_files_fwrite(i)}\n",
    "                    stopCluster(cl)\n",
    "                                      }"
   ]
  },
  {
   "cell_type": "markdown",
   "id": "55ba9a88-4855-47b7-9c31-3833308efa86",
   "metadata": {},
   "source": [
    "### A final touch and output\n",
    "\n",
    "The final chunk here is divided into a few steps:\n",
    "\n",
    "- `Year_num` gathers all of the text files into a vector.\n",
    "- `system.time()` captures how long this process takes. If `multi_processing(Year_num)` does not run, you can run the commented out line below it.\n",
    "- The last line prints out example `.csv` files that been created in the destination directory.\n"
   ]
  },
  {
   "cell_type": "code",
   "execution_count": 61,
   "id": "f5eef31c-11dc-45b9-af82-bc7ac78ad457",
   "metadata": {
    "cache": true,
    "lines_to_next_cell": 2
   },
   "outputs": [
    {
     "data": {
      "text/plain": [
       "  usuário   sistema decorrido \n",
       "     0.02      0.04     49.14 "
      ]
     },
     "metadata": {},
     "output_type": "display_data"
    },
    {
     "data": {
      "text/html": [],
      "text/latex": [],
      "text/markdown": [],
      "text/plain": [
       "character(0)"
      ]
     },
     "metadata": {},
     "output_type": "display_data"
    }
   ],
   "source": [
    "Year_num <- list.files(path = path, pattern = \"[Ff][Rr][Ll].[Tt][Xx][Tt]\")\n",
    "\n",
    "system.time(multi_processing(Year_num))\n",
    "\n",
    "##Run this if parallel processing doesn't work\n",
    "# system.time(invisible(mapply(All_files_fwrite, Year_num)))\n",
    "\n",
    "head(list.files(path = destination, pattern = \"*.csv\"))"
   ]
  },
  {
   "cell_type": "markdown",
   "id": "5fd4ab47-48db-414f-b011-db3657f27f95",
   "metadata": {},
   "source": [
    "We can see the `.csv` files have been created, as a result.\n",
    "\n",
    "I hope you found this document helpful. Writing this file was extremely time consuming. Many of the functions have only been optimized after several iterations and refinements. "
   ]
  },
  {
   "cell_type": "markdown",
   "id": "bb98229f-296f-4de5-ba76-6caa263488c8",
   "metadata": {},
   "source": [
    "## Rapid"
   ]
  },
  {
   "cell_type": "markdown",
   "id": "fbda0195-60d2-4512-85bf-491d40adae4d",
   "metadata": {},
   "source": [
    "### Libraries"
   ]
  },
  {
   "cell_type": "code",
   "execution_count": null,
   "id": "bb165da9-cc09-43b2-a140-820edccaa0b7",
   "metadata": {
    "message": false,
    "warning": false
   },
   "outputs": [],
   "source": [
    "library(readr)\n",
    "library(dplyr)\n",
    "library(magrittr)\n",
    "library(stringr)\n",
    "library(Hmisc)\n",
    "library(data.table)\n",
    "library(lubridate)"
   ]
  },
  {
   "cell_type": "markdown",
   "id": "abdb7d17-fb4e-4263-8f29-289e938696ac",
   "metadata": {},
   "source": [
    "### Useful functions"
   ]
  },
  {
   "cell_type": "code",
   "execution_count": null,
   "id": "4cbaea8f-e7b5-4dd3-8b21-8d599dbffaa2",
   "metadata": {},
   "outputs": [],
   "source": [
    "month_conv <- function(year_vector){\n",
    "for(i in 1:length(year_vector)){\n",
    "  if(nchar(year_vector[i]) == 1){\n",
    "    year_vector[i] = paste(\"0\", year_vector[i], sep = \"\")\n",
    "  }\n",
    "}\n",
    "return(year_vector)\n",
    "}\n",
    "\n",
    "first_line <- function(path){\n",
    "    con <- file(path,\"r\")\n",
    "    first_line <- readLines(con,n=1)%>%\n",
    "                  str_replace(\"ID Nu\", \"ID_Nu\")\n",
    "    close(con)\n",
    "    return(first_line)\n",
    "}\n",
    "\n",
    "indexes <- function(column_vector){ \n",
    "    indexes <- rep(0, nchar(column_vector))\n",
    "    for(i in 1:nchar(column_vector)){\n",
    "        index = grep(\"\\\\s[A-z]\", substr(column_vector, i, i+1))\n",
    "        if (identical(index, integer(0)) == TRUE){indexes[i] = 0}\n",
    "        else {indexes[i] = 1}\n",
    "                                    }\n",
    "    return(c(0, which(indexes == 1), nchar(column_vector)))\n",
    "}\n",
    "\n",
    "clean <- function(x){\n",
    "  x[grepl(\"Fed|FED|COUNTRY\", x)] <- \"Country\"\n",
    "  x[grepl(\"Gms|GAMES|GM|Game|GAME\", x)] <- \"Games\"\n",
    "  x[grepl(\"K\", x)] <- \"K_factor\"\n",
    "  x[grepl(\"FLAG|Flag|flag\", x)] <- \"Activity\"\n",
    "  x[x %in% c(\"Wtit\",\"wtit\",\"WTIT\", \"WTit\")] <- \"WTitle\"\n",
    "  x[x %in% c(\"TITLE\",\"Title\",\"title\",\"Tit\")] <- \"Title\"\n",
    "  x[grepl(string, x)] <- \"Rating\"\n",
    "  x[grepl(\"Born|Age|age|BIRTHDAY|B-day|Bday\", x)] <- \"Age_Birthday\"\n",
    "  x[grepl(\"SEX\", x)] <- \"Sex\"\n",
    "  x[grepl(\"FOA\", x)] <- \"FIDE_Online_Arena\"\n",
    "  x[grepl(\"OTit\", x)] <- \"Other_Titles\"\n",
    "  return(x)\n",
    "}\n",
    "\n",
    "dates <- function(files){\n",
    "  files%>%\n",
    "  gsub(\"rapid_\",\"\", ., fixed = TRUE)%>%\n",
    "  gsub(\"frl.txt\",\"\", ., fixed = TRUE)-> dates\n",
    "  \n",
    "  gsub('\\\\D','', dates)%>%\n",
    "  paste(\"20\", ., sep = \"\") -> years\n",
    "  \n",
    "  gsub('\\\\d','', dates)%>%\n",
    "  capitalize()%>%\n",
    "  match(month.abb)%>%\n",
    "  month_conv() -> months\n",
    "  \n",
    "  return(paste(years, months, \"01\", sep = \"-\"))\n",
    "}\n",
    "\n",
    "year_month <- function(x){\n",
    "paste(month.abb[month(x)]%>%toupper(),\n",
    "      year(x)-2000, \n",
    "      sep = \"\")\n",
    "}"
   ]
  },
  {
   "cell_type": "markdown",
   "id": "9bc1db1a-2fb3-4472-9073-84f3626015e7",
   "metadata": {},
   "source": [
    "### Paths"
   ]
  },
  {
   "cell_type": "code",
   "execution_count": null,
   "id": "c86d7ef9-fb28-4346-baa7-65d73c6b2807",
   "metadata": {},
   "outputs": [],
   "source": [
    "path = \"~/GitHub/FIDE/Chess Scripts/Step 1 - Download/Rapid/\"\n",
    "files = list.files(path = path)\n",
    "rapid_paths = paste(path, files, sep = \"\")\n",
    "dataset_names = dates(files)\n",
    "string <- c(month.abb, tolower(month.abb), toupper(month.abb), \"RATING\")%>%\n",
    "          paste(collapse = \"|\")\n",
    "\n",
    "rapid_paths%>%\n",
    "sapply(first_line)%>%\n",
    "sapply(indexes)%>%\n",
    "sapply(diff)%>%\n",
    "setNames(files)-> col_positions\n",
    "\n",
    "rapid_paths%>%\n",
    "sapply(first_line)%>%\n",
    "strsplit(\"\\\\s+\")%>%\n",
    "lapply(clean)%>%\n",
    "setNames(files) -> columns"
   ]
  },
  {
   "cell_type": "markdown",
   "id": "2835ed53-ebe4-4f3e-b9a5-9876f488dbf1",
   "metadata": {},
   "source": [
    "### Import data"
   ]
  },
  {
   "cell_type": "code",
   "execution_count": null,
   "id": "5d48a835-0d31-4304-a4f3-0befe045c0df",
   "metadata": {
    "lines_to_next_cell": 2
   },
   "outputs": [],
   "source": [
    "for(i in 1:length(files)){\n",
    "assign(dataset_names[i], \n",
    "       suppressMessages(\n",
    "         read_fwf(rapid_paths[i], \n",
    "                  col_positions = fwf_widths(col_positions[[i]]),\n",
    "                  skip = 1)%>%\n",
    "         set_colnames(columns[[i]])\n",
    "                       )%>%\n",
    "         mutate(date = dataset_names[i])\n",
    "      )\n",
    "}\n",
    "\n",
    "FIDE <- mget(ls(pattern = \"[0-9][0-9]-[0-9][0-9]\"))\n",
    "\n",
    "names(FIDE) = paste(\"~/GitHub/FIDE/Chess Scripts/Step 2 - Reformat/Rapid/\",\n",
    "              year_month(names(FIDE)), \".csv\", sep = \"\")\n"
   ]
  },
  {
   "cell_type": "markdown",
   "id": "2119917b-4d44-486f-9da6-5b8f88ebf35e",
   "metadata": {},
   "source": [
    "### Export data"
   ]
  },
  {
   "cell_type": "code",
   "execution_count": null,
   "id": "096de9ed-39fe-4954-b08a-15e4419218b1",
   "metadata": {
    "lines_to_next_cell": 0
   },
   "outputs": [],
   "source": [
    "for (i in 1:length(FIDE)){\n",
    "  fwrite(x = FIDE[[i]], \n",
    "         file = names(FIDE)[i])\n",
    "}"
   ]
  },
  {
   "cell_type": "markdown",
   "id": "a08cc7ba-85cb-41a6-884d-cbd835e7a436",
   "metadata": {},
   "source": []
  },
  {
   "cell_type": "markdown",
   "id": "3351550b-366e-4ca6-a4a2-edc4535daf83",
   "metadata": {
    "tags": []
   },
   "source": [
    "## Blitz"
   ]
  },
  {
   "cell_type": "code",
   "execution_count": null,
   "id": "6bf9a3d3-a0a6-4f62-9b7a-56092230fb1d",
   "metadata": {},
   "outputs": [],
   "source": []
  },
  {
   "cell_type": "markdown",
   "id": "84ceff78-7f7f-4458-b6f3-3fbf0511a1b3",
   "metadata": {},
   "source": [
    "### Libraries"
   ]
  },
  {
   "cell_type": "code",
   "execution_count": null,
   "id": "6bbeb23d-b39f-4548-8c9c-02037e2acd69",
   "metadata": {
    "message": false,
    "warning": false
   },
   "outputs": [],
   "source": [
    "library(readr)\n",
    "library(dplyr)\n",
    "library(magrittr)\n",
    "library(stringr)\n",
    "library(Hmisc)\n",
    "library(data.table)\n",
    "library(lubridate)"
   ]
  },
  {
   "cell_type": "markdown",
   "id": "6d80d0cb-0000-479a-8193-2a42b37621fa",
   "metadata": {},
   "source": [
    "### Useful functions"
   ]
  },
  {
   "cell_type": "code",
   "execution_count": null,
   "id": "8cfdf4a7-c51f-4789-8c35-7c85b809aff2",
   "metadata": {},
   "outputs": [],
   "source": [
    "month_conv <- function(year_vector){\n",
    "for(i in 1:length(year_vector)){\n",
    "  if(nchar(year_vector[i]) == 1){\n",
    "    year_vector[i] = paste(\"0\", year_vector[i], sep = \"\")\n",
    "  }\n",
    "}\n",
    "return(year_vector)\n",
    "}\n",
    "\n",
    "first_line <- function(path){\n",
    "    con <- file(path,\"r\")\n",
    "    first_line <- readLines(con,n=1)%>%\n",
    "                  str_replace(\"ID Nu\", \"ID_Nu\")\n",
    "    close(con)\n",
    "    return(first_line)\n",
    "}\n",
    "\n",
    "indexes <- function(column_vector){ \n",
    "    indexes <- rep(0, nchar(column_vector))\n",
    "    for(i in 1:nchar(column_vector)){\n",
    "        index = grep(\"\\\\s[A-z]\", substr(column_vector, i, i+1))\n",
    "        if (identical(index, integer(0)) == TRUE){indexes[i] = 0}\n",
    "        else {indexes[i] = 1}\n",
    "                                    }\n",
    "    return(c(0, which(indexes == 1), nchar(column_vector)))\n",
    "}\n",
    "\n",
    "clean <- function(x){\n",
    "  x[grepl(\"Fed|FED|COUNTRY\", x)] <- \"Country\"\n",
    "  x[grepl(\"Gms|GAMES|GM|Game|GAME\", x)] <- \"Games\"\n",
    "  x[grepl(\"K\", x)] <- \"K_factor\"\n",
    "  x[grepl(\"FLAG|Flag|flag\", x)] <- \"Activity\"\n",
    "  x[x %in% c(\"Wtit\",\"wtit\",\"WTIT\", \"WTit\")] <- \"WTitle\"\n",
    "  x[x %in% c(\"TITLE\",\"Title\",\"title\",\"Tit\")] <- \"Title\"\n",
    "  x[grepl(string, x)] <- \"Rating\"\n",
    "  x[grepl(\"Born|Age|age|BIRTHDAY|B-day|Bday\", x)] <- \"Age_Birthday\"\n",
    "  x[grepl(\"SEX\", x)] <- \"Sex\"\n",
    "  x[grepl(\"FOA\", x)] <- \"FIDE_Online_Arena\"\n",
    "  x[grepl(\"OTit\", x)] <- \"Other_Titles\"\n",
    "  return(x)\n",
    "}\n",
    "\n",
    "dates <- function(files){\n",
    "  files%>%\n",
    "  gsub(\"blitz_\",\"\", ., fixed = TRUE)%>%\n",
    "  gsub(\"frl.txt\",\"\", ., fixed = TRUE)-> dates\n",
    "  \n",
    "  gsub('\\\\D','', dates)%>%\n",
    "  paste(\"20\", ., sep = \"\") -> years\n",
    "  \n",
    "  gsub('\\\\d','', dates)%>%\n",
    "  capitalize()%>%\n",
    "  match(month.abb)%>%\n",
    "  month_conv() -> months\n",
    "  \n",
    "  return(paste(years, months, \"01\", sep = \"-\"))\n",
    "}\n",
    "\n",
    "year_month <- function(x){\n",
    "paste(month.abb[month(x)]%>%toupper(),\n",
    "      year(x)-2000, \n",
    "      sep = \"\")\n",
    "}"
   ]
  },
  {
   "cell_type": "markdown",
   "id": "a79c1d5a-a497-4ea1-b8de-13f53b11793d",
   "metadata": {},
   "source": [
    "### Paths"
   ]
  },
  {
   "cell_type": "code",
   "execution_count": null,
   "id": "d1d14423-ccca-4260-bbca-2e3b2c0079a0",
   "metadata": {},
   "outputs": [],
   "source": [
    "path = \"~/GitHub/FIDE/Chess Scripts/Step 1 - Download/Blitz/\"\n",
    "files = list.files(path = path)\n",
    "Blitz_paths = paste(path, files, sep = \"\")\n",
    "dataset_names = dates(files)\n",
    "string <- c(month.abb, tolower(month.abb), toupper(month.abb), \"RATING\")%>%\n",
    "          paste(collapse = \"|\")\n",
    "\n",
    "Blitz_paths%>%\n",
    "sapply(first_line)%>%\n",
    "sapply(indexes)%>%\n",
    "sapply(diff)%>%\n",
    "setNames(files)-> col_positions\n",
    "\n",
    "Blitz_paths%>%\n",
    "sapply(first_line)%>%\n",
    "strsplit(\"\\\\s+\")%>%\n",
    "lapply(clean)%>%\n",
    "setNames(files) -> columns"
   ]
  },
  {
   "cell_type": "markdown",
   "id": "a1a2b064-723b-441f-84b6-7c05717c87f0",
   "metadata": {},
   "source": [
    "### Import data"
   ]
  },
  {
   "cell_type": "code",
   "execution_count": null,
   "id": "348dd59c-fdc9-4b84-a1c8-f79bdfa38872",
   "metadata": {},
   "outputs": [],
   "source": [
    "for(i in 1:length(files)){\n",
    "assign(dataset_names[i], \n",
    "       suppressMessages(\n",
    "         read_fwf(Blitz_paths[i], \n",
    "                  col_positions = fwf_widths(col_positions[[i]]),\n",
    "                  skip = 1)%>%\n",
    "         set_colnames(columns[[i]])%>%\n",
    "         mutate(date = dataset_names[i])\n",
    "                       )\n",
    "      )\n",
    "}\n",
    "\n",
    "FIDE <- mget(ls(pattern = \"[0-9][0-9]-[0-9][0-9]\"))\n",
    "\n",
    "names(FIDE) = paste(\"~/GitHub/FIDE/Chess Scripts/Step 2 - Reformat/Blitz/\",\n",
    "              year_month(names(FIDE)), \".csv\", sep = \"\")\n",
    "\n",
    "for (i in 1:length(FIDE)){\n",
    "  fwrite(x = FIDE[[i]], \n",
    "         file = names(FIDE)[i])\n",
    "}"
   ]
  },
  {
   "cell_type": "code",
   "execution_count": null,
   "id": "f51956c3-ad9c-49dd-bc04-7d3db859887d",
   "metadata": {
    "lines_to_next_cell": 0
   },
   "outputs": [],
   "source": []
  },
  {
   "cell_type": "markdown",
   "id": "e7396ec8-e8f1-4de9-b81a-483402aa164e",
   "metadata": {},
   "source": []
  },
  {
   "cell_type": "markdown",
   "id": "9197bb96-25f8-4c59-aaa9-998dbb918eb5",
   "metadata": {},
   "source": [
    "# Fide Country Codes"
   ]
  },
  {
   "cell_type": "code",
   "execution_count": null,
   "id": "2e789ab6-1046-4f92-901c-1cbf96d265f2",
   "metadata": {},
   "outputs": [],
   "source": []
  },
  {
   "cell_type": "markdown",
   "id": "c550c522-991d-49d2-8887-7bda4c593fdf",
   "metadata": {},
   "source": [
    "This file produces a useful table for us to match country names on. FIDE's Chess olympiad website has these codes which we will export to a .csv file after some webscraping."
   ]
  },
  {
   "cell_type": "code",
   "execution_count": 10,
   "id": "9c53b273-f94c-47bb-9eec-dbe541668913",
   "metadata": {},
   "outputs": [],
   "source": [
    "import pandas as pd\n",
    "from bs4 import BeautifulSoup \n",
    "import bs4\n",
    "import urllib.request\n",
    "import requests\n",
    "import os"
   ]
  },
  {
   "cell_type": "code",
   "execution_count": 2,
   "id": "c79e6f1a-cf16-41ec-bbee-8b17413a01f0",
   "metadata": {},
   "outputs": [],
   "source": [
    "def get_soup_OP(url):\n",
    "        req = requests.get(url)\n",
    "        return BeautifulSoup(req.content,'html.parser')  \n",
    "    \n",
    "def comment_text(id):\n",
    "    return(id.text)\n",
    "\n",
    "def td(soup):\n",
    "    return(soup.find(\"td\", attrs = {\"class\": \"let\"}))\n",
    "\n",
    "def digit_remove(ls):\n",
    "    return(''.join([i for i in ls if not i.isdigit()]))\n",
    "    \n",
    "def map_list(function, ls):\n",
    "    return(list(map(function, ls)))"
   ]
  },
  {
   "cell_type": "code",
   "execution_count": 3,
   "id": "a9f76458-b1fe-4869-8103-346680eb2bc8",
   "metadata": {},
   "outputs": [],
   "source": [
    "url = \"https://www.olimpbase.org/help/help41.html\"\n",
    "soup = get_soup_OP(url)"
   ]
  },
  {
   "cell_type": "code",
   "execution_count": 6,
   "id": "b4f522ff-b1b9-40b8-8b1e-d728db19c0f6",
   "metadata": {},
   "outputs": [
    {
     "data": {
      "text/html": [
       "<div>\n",
       "<style scoped>\n",
       "    .dataframe tbody tr th:only-of-type {\n",
       "        vertical-align: middle;\n",
       "    }\n",
       "\n",
       "    .dataframe tbody tr th {\n",
       "        vertical-align: top;\n",
       "    }\n",
       "\n",
       "    .dataframe thead th {\n",
       "        text-align: right;\n",
       "    }\n",
       "</style>\n",
       "<table border=\"1\" class=\"dataframe\">\n",
       "  <thead>\n",
       "    <tr style=\"text-align: right;\">\n",
       "      <th></th>\n",
       "      <th>Code</th>\n",
       "      <th>Country</th>\n",
       "    </tr>\n",
       "  </thead>\n",
       "  <tbody>\n",
       "    <tr>\n",
       "      <th>0</th>\n",
       "      <td>AFG</td>\n",
       "      <td>Afghanistan</td>\n",
       "    </tr>\n",
       "    <tr>\n",
       "      <th>1</th>\n",
       "      <td>ALB</td>\n",
       "      <td>Albania</td>\n",
       "    </tr>\n",
       "    <tr>\n",
       "      <th>2</th>\n",
       "      <td>ALG</td>\n",
       "      <td>Algeria</td>\n",
       "    </tr>\n",
       "    <tr>\n",
       "      <th>3</th>\n",
       "      <td>AND</td>\n",
       "      <td>Andorra</td>\n",
       "    </tr>\n",
       "    <tr>\n",
       "      <th>4</th>\n",
       "      <td>ANG</td>\n",
       "      <td>Angola</td>\n",
       "    </tr>\n",
       "    <tr>\n",
       "      <th>5</th>\n",
       "      <td>ANT</td>\n",
       "      <td>Antigua &amp; Barbuda</td>\n",
       "    </tr>\n",
       "    <tr>\n",
       "      <th>6</th>\n",
       "      <td>ARG</td>\n",
       "      <td>Argentina</td>\n",
       "    </tr>\n",
       "    <tr>\n",
       "      <th>7</th>\n",
       "      <td>ARM</td>\n",
       "      <td>Armenia</td>\n",
       "    </tr>\n",
       "    <tr>\n",
       "      <th>8</th>\n",
       "      <td>ARU</td>\n",
       "      <td>Aruba</td>\n",
       "    </tr>\n",
       "    <tr>\n",
       "      <th>9</th>\n",
       "      <td>ASE</td>\n",
       "      <td>ASEAN (what's this?)</td>\n",
       "    </tr>\n",
       "  </tbody>\n",
       "</table>\n",
       "</div>"
      ],
      "text/plain": [
       "  Code               Country\n",
       "0  AFG           Afghanistan\n",
       "1  ALB               Albania\n",
       "2  ALG               Algeria\n",
       "3  AND               Andorra\n",
       "4  ANG                Angola\n",
       "5  ANT     Antigua & Barbuda\n",
       "6  ARG             Argentina\n",
       "7  ARM               Armenia\n",
       "8  ARU                 Aruba\n",
       "9  ASE  ASEAN (what's this?)"
      ]
     },
     "execution_count": 6,
     "metadata": {},
     "output_type": "execute_result"
    }
   ],
   "source": [
    "country_code = map_list(comment_text, soup.find_all(\"td\", attrs = {\"class\": \"ce\"}))\n",
    "country = map_list(digit_remove, map_list(comment_text, map_list(td, soup.find_all(\"tr\")[1:])))\n",
    "FIDE  = pd.DataFrame([country_code, country]).transpose()\n",
    "FIDE.columns = [\"Code\", \"Country\"]\n",
    "FIDE.head(10)"
   ]
  },
  {
   "cell_type": "code",
   "execution_count": 13,
   "id": "68a296ab-477e-4e94-ae67-29556e3308c1",
   "metadata": {},
   "outputs": [],
   "source": [
    "FIDE.to_csv(r\"C:\\Users\\Anuj\\Documents\\GitHub\\FIDE\\Chess Scripts\\Step 3 - FIDE Country Codes\\Country Data\\FIDE_codes.csv\", \n",
    "            sep=',', encoding='utf-8', index = False)"
   ]
  },
  {
   "cell_type": "code",
   "execution_count": null,
   "id": "05868a7f-f1ff-40a1-becd-b39805ff376b",
   "metadata": {},
   "outputs": [],
   "source": []
  },
  {
   "cell_type": "markdown",
   "id": "86615562-20d0-4d86-a4fb-4e8329092c69",
   "metadata": {},
   "source": [
    "### Cleaning"
   ]
  },
  {
   "cell_type": "markdown",
   "id": "ed512727-8a87-4e5d-a30c-af497dc2a927",
   "metadata": {},
   "source": [
    "The purpose of this document is to clean the `.csv` files stored in the *Step 2 - Reformat/Data csvs/* folder.\n",
    "\n",
    "Before beginning, we need to import several packages that help run the code below.\n"
   ]
  },
  {
   "cell_type": "code",
   "execution_count": null,
   "id": "5c6e14d0-3298-40c9-8b9a-0463c2b7e717",
   "metadata": {
    "lines_to_next_cell": 2,
    "message": false,
    "warning": false
   },
   "outputs": [],
   "source": [
    "library(knitr)\n",
    "library(dplyr)\n",
    "library(data.table)\n",
    "library(lubridate)"
   ]
  },
  {
   "cell_type": "markdown",
   "id": "e556f11e-d6e8-495f-97d4-95010033e32d",
   "metadata": {},
   "source": [
    "### Access the data\n",
    "\n",
    "In order to access the data we need to specify the folder we want to access the files from. We do this by defining a path to find them and set the path with `opts_knit$set(root.dir = path)`. In an R-Markdown document, it is required that you set the directory using this function. We can see the files in the directory with `head()`.\n",
    "\n",
    "We also create a destination path with `dest` for later use so that we can export the files properly. `country_path` is a path to a dataset from which we will reference."
   ]
  },
  {
   "cell_type": "code",
   "execution_count": null,
   "id": "40fd483f-9676-4a04-abad-b092efb1afcb",
   "metadata": {
    "lines_to_next_cell": 0
   },
   "outputs": [],
   "source": [
    "path = \"~/GitHub/FIDE/Chess Scripts/Step 2 - Reformat/Data csvs/\"\n",
    "country_path = \"~/GitHub/FIDE/Chess Scripts/Step 3 - FIDE Country Codes/Country Data/FIDE_codes.csv\"\n",
    "dest =  \"~/GitHub/FIDE/Chess Scripts/Step 4 - Cleaning/Cleaned csvs/\"\n",
    "opts_knit$set(root.dir = path)\n",
    "\n",
    "temp = list.files(path = path)\n",
    "full_path <- paste(path, temp, sep = \"\")\n",
    "\n",
    "head(temp)"
   ]
  },
  {
   "cell_type": "markdown",
   "id": "8b9da897-b56d-4c6f-a02a-9d5a5a9e73e9",
   "metadata": {},
   "source": []
  },
  {
   "cell_type": "markdown",
   "id": "d692a88d-895f-456e-ac57-a3cacfefcc68",
   "metadata": {},
   "source": [
    "### Create functions to rename datasets\n",
    "\n",
    "Below, I define a few functions that help us rename the datasets. \n",
    "\n",
    "`month` gets the first 3 letters of the temp elements, the month name\n",
    "`num` converts each month into a number\n",
    "`add_zero` converts each month number into a usable form when we create dates later on."
   ]
  },
  {
   "cell_type": "code",
   "execution_count": null,
   "id": "d051e831-fbb9-48ce-ac97-8876341f1f21",
   "metadata": {
    "lines_to_next_cell": 2
   },
   "outputs": [],
   "source": [
    "month <- function(x){return(substr(x, 1, 3))}\n",
    "num <- function(x) match(tolower(x), tolower(month.abb))\n",
    "add_zero <- function(x){if (x <= 9){x = paste(\"0\", x, sep = \"\")}; return(x)}"
   ]
  },
  {
   "cell_type": "markdown",
   "id": "1015971e-774e-4f42-8e9e-0317802cbc59",
   "metadata": {},
   "source": [
    "### Get the month number of all of the files in the dataset\n",
    "\n",
    "Below, we rename create the variables names when they are assigned and imported."
   ]
  },
  {
   "cell_type": "code",
   "execution_count": null,
   "id": "b86204c8-8ed3-4dd4-a499-c067ac45c327",
   "metadata": {},
   "outputs": [],
   "source": [
    "temp%>%\n",
    "sapply(month)%>%\n",
    "sapply(num)%>%\n",
    "sapply(add_zero)%>%\n",
    "paste(\"20\", substr(temp, 4, 5), \"-\", ., \"-\", \"01\", sep = \"\")-> month_num\n",
    "\n",
    "head(month_num)"
   ]
  },
  {
   "cell_type": "markdown",
   "id": "80af0390-628e-42c6-929d-9e5274b587bc",
   "metadata": {},
   "source": [
    "We can see that the datasets correspond to dates on which the is recorded."
   ]
  },
  {
   "cell_type": "markdown",
   "id": "c4d16435-fbcd-4351-8f01-e62e9a9c6ba5",
   "metadata": {},
   "source": [
    "### Import all datasets\n",
    "\n",
    "Below, we import and assign all of the datasets into memory. The only objects we need to hold onto is the data and several folder path references for later on. Therefore, we will remove everything unneeded with `rm(list=setdiff(ls())` below."
   ]
  },
  {
   "cell_type": "code",
   "execution_count": null,
   "id": "9cfdbc33-3072-438d-b9e6-921a697376ea",
   "metadata": {
    "eval": false,
    "lines_to_next_cell": 2,
    "message": false,
    "warning": false
   },
   "outputs": [],
   "source": [
    "for(i in 1:length(full_path)) {\n",
    "assign(month_num[i], fread(full_path[i], sep = \"*\", data.table = FALSE, \n",
    "                           strip.white = TRUE, blank.lines.skip = TRUE))\n",
    "}\n",
    "\n",
    "FIDE <- mget(ls(pattern = \"[0-9][0-9]-[0-9][0-9]\"))\n",
    "\n",
    "rm(list=setdiff(ls(), c(\"FIDE\", \"path\", \"temp\", \"dest\", \"country_path\")))"
   ]
  },
  {
   "cell_type": "markdown",
   "id": "8f57f4bf-b04f-46b3-9ba9-a06dd5c53d12",
   "metadata": {},
   "source": [
    "### Data prep\n",
    "\n",
    "In order to get the data to have useful and common values, we need to rename dozens of columns and values. "
   ]
  },
  {
   "cell_type": "code",
   "execution_count": null,
   "id": "8b7efd4e-c1cd-4425-94bd-39c5f4659658",
   "metadata": {
    "eval": false
   },
   "outputs": [],
   "source": [
    "vector_months <- c(month.abb, tolower(month.abb),toupper(month.abb))\n",
    "string = \"\"\n",
    "for (i in 1:length(vector_months)){\n",
    "if (i == 1){string = vector_months[i]}\n",
    "else if (i > 1) {string = paste(string, vector_months[i], sep = \"|\")}\n",
    "}\n",
    "string = paste(string, \"RATING\", sep = \"|\")\n",
    "\n",
    "\n",
    "new = c(\"CM\", \"WCM\", \"WCM\", \"WGM\", \"WFM\", \"WFM\", \"GM\", \"IM\", \"FM\", \"WIM\", \"GM\")\n",
    "old = c(\"c\", \"wc\", \"WC\", \"wg\", \"WF\", \"wf\", \"g\", \"m\", \"f\", \"wm\", \"gm\" )\n",
    "\n",
    "dates = as.Date(names(FIDE))\n",
    "months_vec <- months(dates)%>%toupper()%>%substr(., 1, 3) \n",
    "year_vec <- year(dates)%>%as.character()%>%substr(3,4)\n",
    "files <- paste(months_vec, year_vec, \".csv\", sep = \"\")\n",
    "\n",
    "codes <- fread(country_path, \n",
    "               sep =  \",\", header = TRUE)\n",
    "\n",
    "\n",
    "country_codes <- c(\"BDI\", \"BHU\", \"BUR\", \"CAF\", \"CAM\", \"CGO\", \"CIV\", \"CMR\", \"COD\", \n",
    "                   \"CPV\", \"CUR\", \"DJI\", \"ERI\", \"FID\", \"FIE\", \"GAB\", \"GUM\", \"Ind\", \n",
    "                   \"IVC\", \"KOR\", \"KOS\", \"KSA\", \"LAO\", \"LBN\", \"LBR\", \"LCA\", \"LES\", \n",
    "                   \"MDV\", \"MTN\", \"NET\", \"NRU\", \"OMA\", \"PLW\", \"ROU\", \"SCG\", \"SGP\", \n",
    "                   \"SLE\", \"SOL\", \"SSD\", \"STP\", \"SWZ\", \"TLS\", \"TPE\", \"TTO\") \n",
    "\n",
    "countries <- c(\"Berundi\", \"Bhutan\", \"Burkina Faso\", \"Central African Republic\", \"Cambodia\", \n",
    "            \"Republic of the Congo\", \"Cote d'Ivoire\", \"Cameroon\", \"Democratic Congo\", \n",
    "            \"Cape Verde\", \"Curaçao\", \"Djibouti\", \"Eritrea\", \"Finland\", \"FIE\", \"Gabon\", \n",
    "            \"Guam\", \"India\", \"Côte d'Ivoire\", \"South Korea\", \"Kosovo\", \"Saudi Arabia\", \n",
    "            \"Laos\", \"Lebanon\", \"Liberia\", \"Saint Lucia\", \"Lesotho\", \"Maldives\", \"Mauritania\", \n",
    "            \"NET\", \"Nauru\", \"Oman\", \"Palau\", \"Romania\", \"Serbia and Montenegro\", \"Singapore\", \n",
    "            \"Sierra Leonne\", \"Solomon Islands\", \"South Sudan\", \"Sao Tome and Principe\", \n",
    "            \"Swaziland\", \"East Timor (Timor-Leste)\t\", \"Taiwan\", \"Trinidad and Tobago\") "
   ]
  },
  {
   "cell_type": "markdown",
   "id": "7b95b004-f515-442e-bf76-48b733da453a",
   "metadata": {},
   "source": [
    "### Ugly data cleaning\n",
    "\n",
    "This is the ugly part of the document: a `for loop` that is really meaty. Essentially, we will iterate all of the FIDE datasets to adjust each data's columns and values. We need to do this because want common values to merge the data later. \n",
    "\n",
    "You are free to use `data.table`'s `rbindlist()` function to merge all of the datasets within `FIDE`, but I chose not to in this file."
   ]
  },
  {
   "cell_type": "code",
   "execution_count": null,
   "id": "fa18f4d2-8d8c-4fb2-8f62-60231d4bab5b",
   "metadata": {
    "eval": false,
    "message": false,
    "tags": [
     "remove_output"
    ],
    "warning": false
   },
   "outputs": [],
   "source": [
    "for(i in 1:length(FIDE)){\n",
    "  colnames(FIDE[[i]])[grepl(\"Name|NAME|name\", colnames(FIDE[[i]]))] <- \"Name\"\n",
    "  colnames(FIDE[[i]])[grepl(\"NUMBER\", colnames(FIDE[[i]]))] <- \"ID_Number\"\n",
    "  colnames(FIDE[[i]])[grepl(\"Fed|FED|COUNTRY\", colnames(FIDE[[i]]))] <- \"Country\"\n",
    "  colnames(FIDE[[i]])[grepl(\"Gms|GAMES|GM|Game|GAME\", colnames(FIDE[[i]]))] <- \"Games\"\n",
    "  colnames(FIDE[[i]])[grepl(\"K\", colnames(FIDE[[i]]))] <- \"K_factor\"\n",
    "  colnames(FIDE[[i]])[grepl(\"FLAG|Flag|flag\", colnames(FIDE[[i]]))] <- \"Activity\"\n",
    "  colnames(FIDE[[i]])[colnames(FIDE[[i]]) %in% c(\"Wtit\",\"wtit\",\"WTIT\", \"WTit\")] <- \"Womens_Title\"\n",
    "  colnames(FIDE[[i]])[colnames(FIDE[[i]]) %in% c(\"TITLE\",\"Title\",\"title\",\"Tit\")] <- \"Title\"\n",
    "  colnames(FIDE[[i]])[grepl(string, colnames(FIDE[[i]]))] <- \"Rating\"\n",
    "  colnames(FIDE[[i]])[grepl(\"Born|Age|age|BIRTHDAY|B-day|Bday\", colnames(FIDE[[i]]))] <- \"Age_Birthday\"\n",
    "  colnames(FIDE[[i]])[grepl(\"SEX\", colnames(FIDE[[i]]))] <- \"Sex\"\n",
    "  colnames(FIDE[[i]])[grepl(\"FOA\", colnames(FIDE[[i]]))] <- \"FIDE_Online_Arena\"\n",
    "  colnames(FIDE[[i]])[grepl(\"OTit\", colnames(FIDE[[i]]))] <- \"Other_Titles\"\n",
    "  FIDE[[i]] <- FIDE[[i]] %>%\n",
    "               mutate(Date = as.POSIXct(names(FIDE)[i], format=\"%Y-%m-%d\"),\n",
    "                      Date_numeric = year(Date)+yday(Date)/366,\n",
    "                      Rating = as.numeric(Rating),\n",
    "                      Title= c(new, Title)[match(Title, c(old, Title))],\n",
    "                      Country = c(codes$Country, Country)[match(Country, c(codes$Code, Country))],\n",
    "                      Country = c(countries, Country)[match(Country, c(country_codes, Country))])%>%\n",
    "                      filter(!Country %in% c(\"Fed\", \"Col\"))%>%\n",
    "                      select(-one_of(\"V1\"))\n",
    "  fwrite(FIDE[[i]] , file = paste(dest, files[i], sep = \"\"), sep = \"*\")\n",
    "}"
   ]
  },
  {
   "cell_type": "markdown",
   "id": "7ed11a1d-340f-4875-b169-ad308fa48d08",
   "metadata": {},
   "source": [
    "### Example data after modifications"
   ]
  },
  {
   "cell_type": "code",
   "execution_count": null,
   "id": "667d16ce-dd73-43ab-a172-9edebc1ca06b",
   "metadata": {
    "cache": true,
    "lines_to_next_cell": 0,
    "message": false,
    "tags": [
     "remove_input"
    ],
    "warning": false
   },
   "outputs": [],
   "source": [
    "FIDE[[length(FIDE)]]%>%\n",
    "head()%>%\n",
    "select(Name, Country, Rating, Title, Date)%>%\n",
    "kable()"
   ]
  },
  {
   "cell_type": "markdown",
   "id": "b90a9b37-732f-45d1-bc83-01621c363423",
   "metadata": {},
   "source": [
    "\n"
   ]
  },
  {
   "cell_type": "code",
   "execution_count": null,
   "id": "da001162-c65b-4679-9f9c-e490cac595bb",
   "metadata": {
    "lines_to_next_cell": 0
   },
   "outputs": [],
   "source": [
    "list.files(path = dest, pattern = \"*.csv\")%>%head()"
   ]
  },
  {
   "cell_type": "markdown",
   "id": "26ef3e40-1109-44fd-873d-1e4a0eafbc41",
   "metadata": {},
   "source": []
  },
  {
   "cell_type": "markdown",
   "id": "106d82f0-1f65-481b-b3e4-ec5446e5fec6",
   "metadata": {},
   "source": [
    "# Analysis"
   ]
  },
  {
   "cell_type": "raw",
   "id": "0fef58cb-298d-4999-bb83-998a429e3271",
   "metadata": {},
   "source": [
    "---\n",
    "title: \"Analysis\"\n",
    "date: '`r format(Sys.Date(), \"%B %d, %Y\")`'\n",
    "output:\n",
    "  pdf_document: default\n",
    "---"
   ]
  },
  {
   "cell_type": "code",
   "execution_count": null,
   "id": "638e798d-7f99-48ce-bd79-23c9d6066e75",
   "metadata": {
    "lines_to_next_cell": 2,
    "message": false,
    "tags": [
     "remove_input",
     "remove_output"
    ],
    "warning": false
   },
   "outputs": [],
   "source": [
    "library(tidyverse)\n",
    "library(data.table)\n",
    "library(cowplot)\n",
    "library(scales)\n",
    "library(knitr)\n",
    "library(zoo)\n",
    "library(ggdark)\n",
    "library(gganimate)\n",
    "library(gg3D)\n",
    "library(ggwordcloud)"
   ]
  },
  {
   "cell_type": "code",
   "execution_count": null,
   "id": "e2371891-de18-435a-9a4b-e11bddd091c5",
   "metadata": {
    "eval": false,
    "message": false,
    "tags": [
     "remove_input"
    ],
    "warning": false
   },
   "outputs": [],
   "source": [
    "path = \"~/GitHub/FIDE/Chess Scripts/Step 4 - Cleaning/Cleaned csvs/\"\n",
    "opts_knit$set(root.dir = path)\n",
    "temp = list.files(path = path, pattern = \"*.csv\")\n",
    "proper_temp <- paste(path, temp, sep = \"\")\n",
    "\n",
    "num <- function(x) match(tolower(x), tolower(month.abb))\n",
    "month <- function(x){return(substr(x, 1, 3))}\n",
    "add_zero <- function(x){if (x <= 9){x = paste(\"0\", x, sep = \"\")}; return(x)}\n",
    "\n",
    "temp%>%\n",
    "sapply(month)%>%\n",
    "sapply(num)%>%\n",
    "sapply(add_zero)%>%\n",
    "paste(\"20\", substr(temp, 4, 5), \"-\", ., \"-\", \"01\", sep = \"\")-> month_num\n",
    "\n",
    "\n",
    "for(i in 1:length(proper_temp)) {\n",
    "assign(month_num[i], fread(proper_temp[i], sep = \"*\", data.table = FALSE, \n",
    "                           strip.white = TRUE, blank.lines.skip = TRUE,\n",
    "                           nThread= parallel::detectCores()))\n",
    "}\n",
    "\n",
    "#statement below takes a very long time to run because of rbindlist()\n",
    "FIDE <- mget(ls(pattern = \"[0-9][0-9]-[0-9][0-9]\"))%>%\n",
    "        rbindlist(fill = TRUE)\n",
    "        \n",
    "rm(list=setdiff(ls(), c(\"FIDE\")))"
   ]
  },
  {
   "cell_type": "code",
   "execution_count": null,
   "id": "19064643-d483-4342-adad-0f5708eae503",
   "metadata": {
    "eval": false,
    "lines_to_next_cell": 2,
    "message": false,
    "tags": [
     "remove_input"
    ],
    "warning": false
   },
   "outputs": [],
   "source": [
    "regular_titles = c(\"CM\", \"FM\", \"IM\", \"GM\")\n",
    "Titles = c(\"CM\", \"WCM\",  \"WGM\", \"WFM\", \"IM\", \"FM\", \"WIM\", \"GM\", \"\")\n",
    "Titles_only = c(\"CM\", \"WCM\",  \"WGM\", \"WFM\", \"IM\", \"FM\", \"WIM\", \"GM\")\n",
    "Active = c(\"\", \"w\")\n",
    "Inactive = c(\"i\", \"wi\")\n",
    "\n",
    "\n",
    "Active_player <- FIDE%>%\n",
    "                 filter(Activity %in% Active)%>%\n",
    "                 group_by(Date_numeric)%>%\n",
    "                 summarise(total_count = n(),\n",
    "                           avg_rating = mean(Rating, na.rm = T),\n",
    "                           sd_rating = sd(Rating, na.rm = T))%>%\n",
    "                 mutate(gain_loss = c(NA, diff(total_count)))\n",
    "\n",
    "\n",
    "Inactive_player <- FIDE%>%\n",
    "                   filter(Activity %in% Inactive)%>%\n",
    "                   group_by(Date_numeric)%>%\n",
    "                   summarise(total_count = n(),\n",
    "                             avg_rating = mean(Rating, na.rm = T),\n",
    "                             sd_rating = sd(Rating, na.rm = T))%>%\n",
    "                   mutate(gain_loss = c(NA, diff(total_count)))\n",
    "\n",
    "All_players <- FIDE%>%\n",
    "               filter(Activity %in% c(Active, Inactive))%>%\n",
    "               group_by(Date_numeric)%>%\n",
    "               summarise(total_count = n(),\n",
    "               avg_rating = mean(Rating, na.rm = T),\n",
    "               sd_rating = sd(Rating, na.rm = T))%>%\n",
    "               mutate(gain_loss = c(NA, diff(total_count)))\n",
    "\n",
    "\n",
    "\n",
    "All_countries <- FIDE%>%\n",
    "                 filter(Activity %in% c(Active, Inactive))%>%\n",
    "                 group_by(Date_numeric, Country)%>%\n",
    "                 summarise(total_count = n())\n",
    "\n",
    "Country_diff <- All_countries%>%\n",
    "                arrange(Country, Date_numeric)%>%\n",
    "                group_by(Country)%>%\n",
    "                mutate(Diff = total_count - lag(total_count))%>%\n",
    "                filter(!is.na(Diff))\n",
    "\n",
    "\n",
    "Notable <- Country_diff%>%\n",
    "           filter(abs(Diff) > 580)%>%\n",
    "           .$Country%>%\n",
    "           unique()\n",
    "\n",
    "w_old = c(\"WCM\", \"WFM\", \"WGM\", \"WIM\")\n",
    "w_new = rep(\"W\", length(w_old))\n",
    "\n",
    "FIDE%>%\n",
    "filter(Title %in% Titles_only, Activity%in% Active)%>%\n",
    "group_by(Date_numeric, Title)%>%\n",
    "tally()%>%\n",
    "mutate(w_titles = c(w_new, Title)[match(Title, c(w_old, Title))])-> titled\n",
    "\n",
    "titled%>%\n",
    "group_by(Date_numeric, w_titles)%>%\n",
    "summarise(n = sum(n)) -> titles_group\n",
    "\n",
    "FIDE%>%\n",
    "filter(Games > 0, Activity %in% Active)%>%\n",
    "group_by(Date_numeric)%>%\n",
    "summarise(n = n())%>%\n",
    "mutate(roll = rollmean(n, k = 6, fill = NA))-> Games\n",
    "\n",
    "\n",
    "strongest <- FIDE%>%\n",
    "             filter(Date_numeric == max(Date_numeric), \n",
    "                    Activity %in% Active,\n",
    "                    as.numeric(Age_Birthday) > 1900, \n",
    "                    as.numeric(Age_Birthday) < 2019,\n",
    "                    Rating > 900, \n",
    "                    Rating < 3000)%>%\n",
    "             transmute(Country, Age = 2020-as.numeric(Age_Birthday), Rating)\n",
    "\n",
    "\n",
    "breaks <- c(6, 19, 30, 41, 53, 65, 96)\n",
    "break_labels = paste(breaks[-length(breaks)], breaks[-1], sep = \"-\")\n",
    "\n",
    "strongest <- strongest%>%\n",
    "             mutate(Age_groups = cut(Age, \n",
    "                                    breaks=breaks, \n",
    "                                    include.lowest=TRUE, \n",
    "                                    right=FALSE, \n",
    "                                    labels=break_labels))%>%\n",
    "             filter(!is.na(Age_groups))\n",
    "\n",
    "\n",
    "country_grouped = strongest%>%\n",
    "                  group_by(Country, Age_groups)%>%\n",
    "                  summarise(count = n(), average_rating = mean(Rating)%>%round())%>%\n",
    "                  filter(count > 100)\n",
    "\n",
    "country_grouped%>%\n",
    "    group_by(Country)%>%\n",
    "    filter(n() == 6)%>%\n",
    "    arrange(Age_groups, -average_rating)%>%\n",
    "    group_by(Age_groups)%>%\n",
    "    top_n(n = 10)%>%\n",
    "    .$Country%>%\n",
    "    unique()-> country_vec\n",
    "\n",
    "country_grouped%>%\n",
    "filter(Country %in% country_vec)%>%\n",
    "select(-count) -> strongest\n",
    "\n",
    "titled_only <- FIDE%>%\n",
    "               filter(Title %in% c(\"CM\", \"FM\", \"IM\", \"GM\"), Date_numeric == max(Date_numeric))%>%\n",
    "               group_by(Title, Country)%>%\n",
    "               tally()%>%\n",
    "               filter(n > 15)%>%\n",
    "               group_by(Country)%>%\n",
    "               filter(n() == 4)\n",
    "\n",
    "\n",
    "dec19_titled <- FIDE%>%\n",
    "                filter(Date_numeric == max(Date_numeric), \n",
    "                      Activity %in% Active)%>%\n",
    "                select(Rating, Title, Age_Birthday, Womens_Title)%>%\n",
    "                mutate(Age_Birthday = 2020 - as.numeric(Age_Birthday))%>%\n",
    "                filter(Age_Birthday > 0, Age_Birthday < 120,\n",
    "                      Rating > 950, !Title %in% c(\"\"), Womens_Title == \"\")\n",
    "\n",
    "\n",
    "hist_data <- FIDE%>%\n",
    "             filter(Date_numeric == max(Date_numeric), \n",
    "                    Activity %in% Active,\n",
    "                    as.numeric(Age_Birthday) > 1900)%>%\n",
    "             select(Sex, Rating)\n",
    "             \n",
    "\n",
    "Name <- FIDE%>%\n",
    "        filter(Date_numeric %in% max(Date_numeric), \n",
    "               Activity %in% c(\"w\", \"\"),\n",
    "               grepl(\",\", Name, fixed=TRUE))%>%\n",
    "        select(Name)%>%\n",
    "        mutate(comma = str_count(Name, \",\"))%>%\n",
    "        filter(comma == 1)%>%\n",
    "        select(-comma)%>%\n",
    "        separate(Name, c(\"Last\", \"First\"), \",\")%>%\n",
    "        gather(\"Type\", \"Name\")%>%\n",
    "        group_by(Type, Name)%>%\n",
    "        summarise(n = n())%>%\n",
    "        arrange(Type, -n)%>%\n",
    "        group_by(Type)%>%\n",
    "        top_n(n = 30)\n",
    "\n",
    "#write dataframe to folder\n",
    "\n",
    "# DO NOT RUN UNLESS YOU WANT THE BIG file\n",
    "\n",
    "# fwrite(FIDE, \"FIDE.csv\")\n",
    "# FIDE <- fread(\"FIDE.csv\", data.table = FALSE)\n",
    "\n",
    "\n",
    "\n",
    "# all_titled <- FIDE%>%\n",
    "#               filter(Activity %in% Active,\n",
    "#                      Rating > 960, Rating < 2900, Title %in% c(\"FM\", \"IM\", \"GM\"))%>%\n",
    "#               select(Title,  Rating, Date_numeric, Age_Birthday)%>%\n",
    "#               mutate(year = as.numeric(Age_Birthday))%>%\n",
    "#               filter(year > 1900, year < 2020)%>%\n",
    "#               mutate(Age = Date_numeric-year)%>%\n",
    "#               select(-Age_Birthday, -year)%>%\n",
    "#               na.omit()\n"
   ]
  },
  {
   "cell_type": "code",
   "execution_count": null,
   "id": "01bb8465-e31b-4cb6-a69a-2de94c08e0b3",
   "metadata": {
    "cache": true,
    "lines_to_next_cell": 2,
    "message": false,
    "tags": [
     "remove_input"
    ],
    "warning": false
   },
   "outputs": [],
   "source": [
    "ggplot(data = All_players, aes(x = Date_numeric, y = total_count)) + \n",
    "  geom_line(color = \"#FC4E07\", size = 1)+\n",
    "  xlab(\"Year\")+\n",
    "  ylab(\"# of players\")+\n",
    "  dark_theme_gray()+\n",
    "  scale_y_continuous(labels = comma)+\n",
    "  theme(panel.grid.major = element_line(linetype = 'solid',colour = \"white\", size = .01), \n",
    "        panel.grid.minor = element_line(linetype = 'solid',colour = \"white\", size = .01))-> p1\n",
    "\n",
    "ggplot(data = Active_player, aes(x = Date_numeric, y = total_count)) + \n",
    "  geom_line(color = \"#FC4E07\", size = 1)+\n",
    "  xlab(\"Year\")+\n",
    "  ylab(\"# of actives\")+\n",
    "  # geom_segment(aes(x=as.Date(\"2004-06-01\"), xend=as.Date(\"2008-06-01\"), y=120000, yend=70000), \n",
    "  #              arrow = arrow(length = unit(.5, \"cm\")), size = 2)+\n",
    "  # geom_segment(aes(x=as.Date(\"2004-06-01\"), xend=as.Date(\"2002-02-01\"), y=120000, yend=35000), \n",
    "  #              arrow = arrow(length = unit(.5, \"cm\")), size = 2)+ \n",
    "  # annotate(\"text\", x = as.Date(\"2006-06-01\"), y = 130000, \n",
    "  #          label = \"Economic crash of 2008 (the larger chasm)\", size = 5) +\n",
    "  dark_theme_gray()+\n",
    "  scale_y_continuous(labels = comma)+\n",
    "  theme(panel.grid.major = element_line(linetype = 'solid',colour = \"white\", size = .01), \n",
    "        panel.grid.minor = element_line(linetype = 'solid',colour = \"white\", size = .01)) -> p2\n",
    "\n",
    "ggplot(data = Inactive_player, aes(x = Date_numeric, y = total_count)) + \n",
    "  geom_line(color = \"#FC4E07\", size = 1)+\n",
    "  xlab(\"Year\")+\n",
    "  ylab(\"# of inactives\")+\n",
    "  # geom_segment(aes(x=as.Date(\"2004-06-01\"), xend=as.Date(\"2008-06-01\"), y=140000, yend=55000), \n",
    "  #              arrow = arrow(length = unit(.5, \"cm\")), size = 2)+\n",
    "  # geom_segment(aes(x=as.Date(\"2004-06-01\"), xend=as.Date(\"2002-07-01\"), y=140000, yend=35000), \n",
    "  #              arrow = arrow(length = unit(.5, \"cm\")), size = 2)+\n",
    "  # annotate(\"text\", x = as.Date(\"2005-01-01\"), y = 155000, \n",
    "  #          label = \"Is this corrupted data?\", size = 5)+\n",
    "  dark_theme_gray()+\n",
    "  scale_y_continuous(labels = comma)+\n",
    "  theme(panel.grid.major = element_line(linetype = 'solid',colour = \"white\", size = .01), \n",
    "        panel.grid.minor = element_line(linetype = 'solid',colour = \"white\", size = .01))-> p3\n",
    "\n",
    "ggplot(data = All_players, aes(x = Date_numeric, y = gain_loss)) + \n",
    "  geom_line(color = \"#FC4E07\", size = 1)+\n",
    "  xlab(\"Year\")+\n",
    "  ylab(\"# of gained/lost\")+\n",
    "  ggtitle(\"# of total gained/lost\")+\n",
    "  geom_line(aes(y = 0))+\n",
    "  dark_theme_gray()+\n",
    "  theme(plot.title = element_text(size = 6, face = \"bold\"))+\n",
    "  scale_y_continuous(labels = comma)+\n",
    "  theme(panel.grid.major = element_line(linetype = 'solid',colour = \"white\", size = .01), \n",
    "        panel.grid.minor = element_line(linetype = 'solid',colour = \"white\", size = .01))-> p4\n",
    "\n",
    "ggplot(data = Active_player, aes(x = Date_numeric, y = gain_loss)) + \n",
    "  geom_line(color = \"#FC4E07\", size = 1)+\n",
    "  xlab(\"Year\")+\n",
    "  ylab(\"# of gained/lost\")+  \n",
    "  ggtitle(\"# of Actives gained/lost\")+\n",
    "  geom_line(aes(y = 0))+\n",
    "  dark_theme_gray()+\n",
    "  theme(plot.title = element_text(size = 6, face = \"bold\"))+\n",
    "  scale_y_continuous(labels = comma)+\n",
    "  theme(panel.grid.major = element_line(linetype = 'solid',colour = \"white\", size = .01), \n",
    "        panel.grid.minor = element_line(linetype = 'solid',colour = \"white\", size = .01))-> p5\n",
    "\n",
    "ggplot(data = Inactive_player, aes(x = Date_numeric, y = gain_loss)) + \n",
    "  geom_line(color = \"#FC4E07\", size = 1)+\n",
    "  xlab(\"Year\")+\n",
    "  ylab(\"# of gained/lost\")+\n",
    "  ggtitle(\"# of Inactives gained/lost\")+\n",
    "  geom_line(aes(y = 0))+\n",
    "  dark_theme_gray()+\n",
    "  theme(plot.title = element_text(size = 6, face = \"bold\"))+\n",
    "  scale_y_continuous(labels = comma)+\n",
    "  theme(panel.grid.major = element_line(linetype = 'solid',colour = \"white\", size = .01), \n",
    "        panel.grid.minor = element_line(linetype = 'solid',colour = \"white\", size = .01))-> p6\n",
    "\n",
    "ggplot(data = Active_player, aes(x = Date_numeric, y = avg_rating)) + \n",
    "  geom_line(color = \"#FC4E07\", size = 1)+\n",
    "  xlab(\"Year\")+\n",
    "  ylab(\"Average of Actives\")+\n",
    "  dark_theme_gray()+\n",
    "  theme(panel.grid.major = element_line(linetype = 'solid',colour = \"white\", size = .01), \n",
    "        panel.grid.minor = element_line(linetype = 'solid',colour = \"white\", size = .01))-> p7\n",
    "\n",
    "ggplot(data = Inactive_player, aes(x = Date_numeric, y = avg_rating)) + \n",
    "  geom_line(color = \"#FC4E07\", size = 1)+\n",
    "  xlab(\"Year\")+\n",
    "  ylab(\"Average of Inactives\")+\n",
    "  dark_theme_gray()+\n",
    "  theme(panel.grid.major = element_line(linetype = 'solid',colour = \"white\", size = .01), \n",
    "        panel.grid.minor = element_line(linetype = 'solid',colour = \"white\", size = .01))-> p8\n",
    "\n",
    "ggplot(data = Active_player, aes(x = Date_numeric, y = sd_rating)) + \n",
    "  geom_line(color = \"#FC4E07\", size = 1)+\n",
    "  xlab(\"Year\")+\n",
    "  ylab(\"Actives SD\")+\n",
    "  dark_theme_gray()+\n",
    "  theme(panel.grid.major = element_line(linetype = 'solid',colour = \"white\", size = .01), \n",
    "        panel.grid.minor = element_line(linetype = 'solid',colour = \"white\", size = .01))-> p9\n",
    "\n",
    "ggplot(data = Inactive_player, aes(x = Date_numeric, y = sd_rating)) + \n",
    "  geom_line(color = \"#FC4E07\", size = 1)+\n",
    "  xlab(\"Year\")+\n",
    "  ylab(\"Inactives SD\")+\n",
    "  dark_theme_gray()+\n",
    "  theme(panel.grid.major = element_line(linetype = 'solid',colour = \"white\", size = .01), \n",
    "        panel.grid.minor = element_line(linetype = 'solid',colour = \"white\", size = .01))-> p10\n",
    "\n",
    "Country_diff%>%\n",
    "filter(Country %in% Notable)%>%\n",
    "ggplot()+\n",
    "geom_line(aes(x = Date_numeric, y = Diff, colour = Country))+\n",
    "dark_theme_classic()+\n",
    "facet_wrap(~Country)+\n",
    "ggtitle(\"Gained/Lost over time\")+\n",
    "xlab(\"Year\")+\n",
    "ylab(\"Gained/Lost\")+ \n",
    "theme(legend.position = \"none\")+\n",
    "geom_hline(aes(yintercept = 0))+\n",
    "  theme(panel.grid.major = element_line(linetype = 'solid',colour = \"white\", size = .05), \n",
    "        panel.grid.minor = element_line(linetype = 'solid',colour = \"white\", size = .05))-> p11\n",
    "\n",
    "titled%>%\n",
    "ggplot(aes(x=Date_numeric, y= n, group=Title, color=Title)) +\n",
    "geom_line(size = 1.5)+\n",
    "dark_theme_gray()+\n",
    "xlab(\"Year\")+\n",
    "  theme(panel.grid.major = element_line(linetype = 'solid',colour = \"white\", size = .01), \n",
    "        panel.grid.minor = element_line(linetype = 'solid',colour = \"white\", size = .01))-> p12\n",
    "\n",
    "titles_group%>%\n",
    "ggplot(aes(x=Date_numeric, y= n, group=w_titles, color=w_titles)) +\n",
    "geom_line(size = 1.5)+\n",
    "dark_theme_gray()+\n",
    "xlab(\"Year\")+\n",
    "ylab(\"# of players\")+\n",
    "labs(color=\"\")+\n",
    "theme(panel.grid.major = element_line(linetype = 'solid',colour = \"white\", size = .01), \n",
    "      panel.grid.minor = element_line(linetype = 'solid',colour = \"white\", size = .01)) -> p13\n",
    "\n",
    "titles_group %>%\n",
    "group_by(w_titles) %>%\n",
    "mutate(Diff = n - lag(n))%>%\n",
    "filter(w_titles != \"W\")%>%\n",
    "ggplot(aes(x=Date_numeric, y= Diff, group=w_titles, color=w_titles)) +\n",
    "geom_line(size = 1)+\n",
    "labs(x = \"Year\", y = \"Gained/Lost\", color=\"\")+\n",
    "dark_theme_gray()+\n",
    "facet_wrap(~w_titles, ncol  = 2, scales = \"free\")+\n",
    "  theme(panel.grid.major = element_line(linetype = 'solid',colour = \"white\", size = .01), \n",
    "        panel.grid.minor = element_line(linetype = 'solid',colour = \"white\", size = .01),\n",
    "        legend.position = \"none\")-> p14\n",
    "\n",
    "Games%>%\n",
    "ggplot() +\n",
    "geom_line(aes(x=Date_numeric, y= roll), size = 1.5, color = \"red\")+\n",
    "dark_theme_classic()+\n",
    "xlab(\"Year\")+\n",
    "theme(panel.grid.major = element_line(linetype = 'solid',colour = \"white\", size = .01), \n",
    "      panel.grid.minor = element_line(linetype = 'solid',colour = \"white\", size = .01)) -> p15\n",
    "\n",
    "titled_only%>%\n",
    "filter(Title %in% c(\"CM\", \"FM\", \"IM\", \"GM\"))%>%\n",
    "ggplot(aes(x= Country, y =n, fill = Country))+\n",
    "    geom_bar(stat =\"identity\")+\n",
    "    coord_flip()+\n",
    "    facet_wrap(~Title, scales = \"free\")+\n",
    "    dark_theme_gray()+\n",
    "    xlab(\"\")+ylab(\"\")+\n",
    "    theme(axis.text=element_text(size=6))+\n",
    "    theme(panel.grid.major = element_blank(), \n",
    "          panel.grid.minor = element_blank(),\n",
    "          panel.background = element_blank())+\n",
    "    theme(legend.position = \"none\")-> p16\n",
    "\n",
    "\n",
    "strongest%>%\n",
    "ggplot(aes(x= Country, y= average_rating, fill = Country))+\n",
    "    geom_bar(stat =\"identity\")+\n",
    "    coord_flip()+\n",
    "    ylab(\"Average Rating\")+\n",
    "    ggtitle(\"Highest rated age groups by country\")+\n",
    "    facet_wrap(~Age_groups, ncol = 2, scales=\"free\")+\n",
    "    dark_theme_gray()+\n",
    "    theme(axis.text=element_text(size=6))+\n",
    "    theme(legend.position = \"none\",\n",
    "          panel.background = element_blank())-> p17\n",
    "\n",
    "dec19_titled%>%\n",
    "ggplot(aes(Age_Birthday, Rating, color=Title)) +\n",
    "  geom_point(alpha = .3) +\n",
    "  scale_fill_brewer(palette=\"Set1\") +\n",
    "  dark_theme_classic()+\n",
    "  theme(legend.position = \"bottom\")+\n",
    "  xlab(\"Age\")+\n",
    "  ylab(\"Rating\")+\n",
    "  theme(panel.grid.major = element_line(linetype = 'solid',colour = \"white\", size = .01), \n",
    "        panel.grid.minor = element_line(linetype = 'solid',colour = \"white\", size = .01),\n",
    "        panel.background = element_blank()) -> p18\n",
    "\n",
    "\n",
    "hist_data%>%\n",
    "mutate(Sex = recode_factor(Sex, \"M\" = \"Male\", \"F\" = \"Female\"))%>%\n",
    "magrittr::set_colnames(c(\"Male or Female?\", \"Rating\"))%>%\n",
    "ggplot(aes(Rating, fill = `Male or Female?`, colour = `Male or Female?`)) +\n",
    "geom_density(alpha = .6)+\n",
    "labs(x = \"\", y = \"\")+\n",
    "dark_theme_classic()+\n",
    "theme(panel.background = element_blank(),\n",
    "      axis.text.y = element_blank(),\n",
    "      axis.ticks.y = element_blank(),\n",
    "      legend.position = c(.8, .6)) -> p19\n",
    "\n",
    "Name%>%\n",
    "filter(Type == \"First\")%>%\n",
    "ggplot(aes(label = Name, size = n, color = Name)) +\n",
    "  geom_text_wordcloud() +\n",
    "  dark_theme_minimal()+\n",
    "  scale_size_area(max_size = 15) -> p20\n",
    "\n",
    "Name%>%\n",
    "filter(Type == \"Last\")%>%\n",
    "ggplot(aes(label = Name, size = n, color = Name)) +\n",
    "  geom_text_wordcloud() +\n",
    "  dark_theme_minimal()+\n",
    "  scale_size_area(max_size = 15) -> p21\n",
    "\n",
    "# dec19_titled%>%\n",
    "# ggplot(aes(x = Age_Birthday, y = Rating, fill = Title)) +\n",
    "#   stat_density_2d(geom = \"polygon\", \n",
    "#                   aes(alpha = ..level..),\n",
    "#                   bins = 3)+\n",
    "#   dark_theme_classic()\n",
    "\n",
    "# find_hull <- function(df) df[chull(df$Age, df$Rating), ]\n",
    "# hulls <-plyr::ddply(all_titled, \"Title\", find_hull)\n",
    "# \n",
    "# all_titled%>%\n",
    "# filter(Date_numeric == max(Date_numeric))%>%\n",
    "# ggplot(aes(Age, Rating, color=Title, fill = Title)) +\n",
    "# geom_point(alpha = .3) +\n",
    "# geom_polygon(data = hulls, alpha = 0.5) +\n",
    "# scale_fill_brewer(palette=\"Set1\") +\n",
    "# theme(legend.position = \"right\")+\n",
    "# ggtitle(\"Age vs Rating\")+\n",
    "# xlab(\"Age\")+\n",
    "# ylab(\"Rating\")\n",
    "# + labs(title = 'Year: {frame_time}')\n",
    "# +transition_time(Date_numeric)\n"
   ]
  },
  {
   "cell_type": "markdown",
   "id": "ef6b3569-15a2-42e8-8938-c5c3681e8bb6",
   "metadata": {},
   "source": [
    "The purpose of this document is to visually analyze all of the FIDE data files collected in the previous step's folder. "
   ]
  },
  {
   "cell_type": "markdown",
   "id": "6752c644-a2da-44c9-9f7f-b3dedef74378",
   "metadata": {},
   "source": [
    "### Irregular values by year\n"
   ]
  },
  {
   "cell_type": "code",
   "execution_count": null,
   "id": "d5698500-ec2f-41ed-8f6c-b4ca11f2568d",
   "metadata": {
    "cache": true,
    "lines_to_next_cell": 2,
    "message": false,
    "tags": [
     "remove_input"
    ],
    "warning": false
   },
   "outputs": [],
   "source": [
    "FIDE%>%\n",
    "filter(!Title %in% Titles | !Activity %in% c(Active, Inactive))%>%\n",
    "group_by(Date_numeric)%>%\n",
    "tally()%>%\n",
    "arrange(-n)%>%\n",
    "head(10)%>%\n",
    "magrittr::set_colnames(c(\"Date\", \"# of irregular values\"))%>%\n",
    "kable()"
   ]
  },
  {
   "cell_type": "markdown",
   "id": "088727b5-1f2d-44f6-a11a-8bbf64afdae5",
   "metadata": {},
   "source": [
    "As we can see from the table above, most of irregular values in the files come from early on (2001 - 2005) rather than the latest files.\n",
    "\n",
    "I'll look to address many of the values in the early datasets eventually. For now though, over 99.9% of the data is interpretable. "
   ]
  },
  {
   "cell_type": "markdown",
   "id": "e457bd5f-eb44-4669-a90e-4abd6629b55c",
   "metadata": {},
   "source": [
    "\\pagebreak\n"
   ]
  },
  {
   "cell_type": "markdown",
   "id": "b0a1c425-cb31-40c2-8a8d-e451f202afc3",
   "metadata": {},
   "source": [
    "### Total player count over time"
   ]
  },
  {
   "cell_type": "code",
   "execution_count": null,
   "id": "d2c6d133-ff21-4e39-b2c2-c45ed4b2e746",
   "metadata": {
    "cache": false,
    "fig.height": 6,
    "lines_to_next_cell": 0,
    "message": false,
    "tags": [
     "remove_input"
    ],
    "warning": false
   },
   "outputs": [],
   "source": [
    "plot_grid(p1, p4, p2, p5, p3, p6, labels = c(\"A\", \"B\", \"C\", \"D\", \"E\", \"F\"), ncol = 2) "
   ]
  },
  {
   "cell_type": "markdown",
   "id": "90897b26-3f24-4003-a6c3-17f736a05638",
   "metadata": {},
   "source": []
  },
  {
   "cell_type": "markdown",
   "id": "c7c04991-f18b-4a35-9446-b969fd98a521",
   "metadata": {},
   "source": [
    "The four charts above reveal the total count of FIDE's members over time. Chart `A` shows a smooth gradual increasing growth curve among total players. This may lead you to believe that more chess players are playing tournaments, but a player's **activity** is a better metric to go by. \n",
    "\n",
    "**Activity** is defined by if a given FIDE player had played a rated FIDE game within the past 12 months. If we take this into account, charts `C` and `E` show how the total active & inactive player count increase over time. Both charts show a fairly linear trend over time, but from 2007 to 2010 in each graph, there was a noticeable drop off in the active player base and increase in the inactive player base. I have my doubts on if there is faulty data here because chart `A` shows no irregularity during that time. This dip may be due to the economic crash during that time, but I need to do more exploration on this topic before making any definitive statements. Exploring variation by country may also be worth doing.\n",
    "\n",
    "Charts `B`, `D` and `F` show the number of players gained and lost over time. The most relevant of the 3 graphs is `B` which shows several instances where total player counts dropped off. I genuinely don't if the data is faulty because of my doing or if FIDE is providing incomplete data sets based off of the charts."
   ]
  },
  {
   "cell_type": "markdown",
   "id": "0a0db26e-9878-49bb-bdc7-7f9514055ae4",
   "metadata": {},
   "source": [
    "\\pagebreak\n",
    "\n",
    "### Rating stability over time (misleading)"
   ]
  },
  {
   "cell_type": "code",
   "execution_count": null,
   "id": "7d0d0bc1-d528-4fc5-913e-697161ad46c3",
   "metadata": {
    "cache": false,
    "message": false,
    "tags": [
     "remove_input"
    ],
    "warning": false
   },
   "outputs": [],
   "source": [
    "plot_grid(p7, p8, p9, p10, labels = c(\"G\", \"H\", \"I\", \"J\")) "
   ]
  },
  {
   "cell_type": "markdown",
   "id": "9b40e097-0a14-403f-8561-70b335c92414",
   "metadata": {},
   "source": [
    "Each chart above shows how the Active and Inactive player's average rating and rating standard deviation have progressed over time. For the most part, it is a meaningless metric because FIDE has brought in more **lower** rated chess players into the player pool over time. \n",
    "\n",
    "This explains the steady decrease in average rating and increase in standard deviation over time."
   ]
  },
  {
   "cell_type": "markdown",
   "id": "8bdf95d4-7a2b-4a04-9f68-9e3c2d716456",
   "metadata": {},
   "source": [
    "\\pagebreak\n"
   ]
  },
  {
   "cell_type": "markdown",
   "id": "adee0340-e2a5-4976-96e4-5e001960b99f",
   "metadata": {},
   "source": [
    "### Which countries have seen the greatest changes in player counts?"
   ]
  },
  {
   "cell_type": "code",
   "execution_count": null,
   "id": "b5b9a917-9704-41a2-894b-1449521d154a",
   "metadata": {
    "cache": false,
    "fig.height": 9,
    "fig.width": 9,
    "message": true,
    "tags": [
     "remove_input"
    ],
    "warning": true
   },
   "outputs": [],
   "source": [
    "p11"
   ]
  },
  {
   "cell_type": "markdown",
   "id": "444e08a6-b06e-4558-a2f7-351ff88974da",
   "metadata": {},
   "source": [
    "A consistent theme we will see in every graph is a potential corruption of data. The graph above displays the of players gained and lost over time by country. \n",
    "\n",
    "- Bulgaria, Finland, Germany, Serbia and Montenegro, and the United State of America saw unusual spikes & dips at various junctures (2002, 2007, 2017)"
   ]
  },
  {
   "cell_type": "markdown",
   "id": "6f361089-6e96-43fa-aa81-0bd58c2701cf",
   "metadata": {},
   "source": [
    "\\pagebreak"
   ]
  },
  {
   "cell_type": "markdown",
   "id": "57e4c5d6-9044-47b2-af92-5ec9a0b9cef5",
   "metadata": {},
   "source": [
    "### Titled player count over time"
   ]
  },
  {
   "cell_type": "code",
   "execution_count": null,
   "id": "e95a830b-75e3-4a36-8969-dd134aa9c223",
   "metadata": {
    "cache": false,
    "lines_to_next_cell": 2,
    "message": false,
    "tags": [
     "remove_input"
    ],
    "warning": false
   },
   "outputs": [],
   "source": [
    "p13"
   ]
  },
  {
   "cell_type": "markdown",
   "id": "9dd428f0-0797-4454-a714-f242333e775b",
   "metadata": {},
   "source": [
    "The plot above shows a few interesting trends (W = All women's titles):\n",
    "\n",
    "- All titled player groups have significantly increased in size over the past 20 years\n",
    "\n",
    "- Around both 2002 and 2007, there were significant dips in all categories, except in `GM`s and `CM`s. \n",
    "\n",
    "- There are about as many `GM`s as `CM`s. It goes to show how stigmatized the CM title is."
   ]
  },
  {
   "cell_type": "markdown",
   "id": "e14980e8-0b42-4a66-8bfa-389d675768b9",
   "metadata": {},
   "source": [
    "\\pagebreak"
   ]
  },
  {
   "cell_type": "markdown",
   "id": "22632adc-b0ae-4dc7-9af2-a55860e1801f",
   "metadata": {},
   "source": [
    "### Titled players gained/lost over time"
   ]
  },
  {
   "cell_type": "code",
   "execution_count": null,
   "id": "2ac545a0-dfdc-484a-a321-b465b67a037e",
   "metadata": {
    "cache": false,
    "message": false,
    "tags": [
     "remove_input"
    ],
    "warning": false
   },
   "outputs": [],
   "source": [
    "p14"
   ]
  },
  {
   "cell_type": "markdown",
   "id": "5c877d7e-99db-4f21-893d-4bc5ae67f3f5",
   "metadata": {},
   "source": [
    "The graph above is graphs the rolling difference of titled player counts over time. As we saw before, there are a few noticeable dips in the graph. Most notably they occur around 2002, 2008 and 2010 in varying degrees. \n",
    "\n",
    "\\pagebreak"
   ]
  },
  {
   "cell_type": "markdown",
   "id": "5b127efb-0f94-4dd9-8f68-6dc4fc6b6ed8",
   "metadata": {
    "tags": []
   },
   "source": [
    "Notable observations:\n",
    "\n",
    "- Clearly, among `FM`, `IM` and `GM` players, Russia has the most titled players by a large margin. This is not surprising because of Russia's longstanding history (USSR and Soviet Union) of chess.\n",
    "\n",
    "- Germany is a clear 2nd amongst `FM`, `IM` and `GM` players. They also lead the pack in `CM` players. This is surprising to me since I've never thought of Germany as being a bastion of strong players. \n",
    "\n",
    "- Every other country lags behind these top-tier powerhouses.\n",
    "\n",
    "\\pagebreak\n",
    "\n",
    "### Strongest countries by age group (Work in progress)"
   ]
  },
  {
   "cell_type": "markdown",
   "id": "51cabcb0-402c-4375-b9a2-327a2101fbc8",
   "metadata": {},
   "source": [
    "### Titled player counts by country"
   ]
  },
  {
   "cell_type": "code",
   "execution_count": null,
   "id": "6c9211e7-4ab0-471c-8c20-91fec9ecb7e7",
   "metadata": {
    "cache": false,
    "fig.height": 8,
    "lines_to_next_cell": 0,
    "message": false,
    "tags": [
     "remove_input"
    ],
    "warning": false
   },
   "outputs": [],
   "source": [
    "p17 "
   ]
  },
  {
   "cell_type": "markdown",
   "id": "93eb5571-2b2f-499a-8b92-a81c446e291f",
   "metadata": {},
   "source": [
    "\n",
    "\n"
   ]
  },
  {
   "cell_type": "markdown",
   "id": "d2d29fa6-e806-4401-9f3f-e00313bad050",
   "metadata": {},
   "source": [
    "This plot would be substantially better at showing relative strengths among countries if I could scale it differently. This will adjusted in future iterations, probably through scaling.\n",
    "\n",
    "\\pagebreak"
   ]
  },
  {
   "cell_type": "markdown",
   "id": "940de98f-a1d5-412a-a0bc-3026caa7fbe6",
   "metadata": {},
   "source": [
    "### Age vs Rating of titled players (December 2019)"
   ]
  },
  {
   "cell_type": "code",
   "execution_count": null,
   "id": "5e900212-41de-4377-a6e4-83aff36e06f5",
   "metadata": {
    "cache": false,
    "fig.height": 6.5,
    "fig.width": 6,
    "tags": [
     "remove_input"
    ]
   },
   "outputs": [],
   "source": [
    "p18 "
   ]
  },
  {
   "cell_type": "markdown",
   "id": "d9b8f55b-1a47-4bd1-bb87-4b6ab5f4b956",
   "metadata": {},
   "source": [
    "The most aesthetically pleasing graph to look at is the one above. It reveals a few aesthetically pleasing observations:\n",
    "\n",
    "- Bands of players can be separated by titles categories: an obvious points is that the top blue band is all GMs, the highest rated group. Below the  blue band are IMs (purple band), FMs (green band) and CMs (red band). \n",
    "\n",
    "- CMs and FMs vary greatly across rating categories because it has become much easier for lower rated players to acquire titles in youth tournaments and via inter zonal tournaments.\n",
    "\n",
    "- There is a slight negative correlation, among all titled player groups, between Age and Rating. "
   ]
  },
  {
   "cell_type": "markdown",
   "id": "fe783a59-9fd0-4c68-9bcf-f9cc80b92767",
   "metadata": {},
   "source": [
    "### Males/Females rating distributions (December 2019)"
   ]
  },
  {
   "cell_type": "code",
   "execution_count": null,
   "id": "6bf3b50e-5f65-4ea6-9667-c303a7cb16e1",
   "metadata": {
    "cache": false,
    "lines_to_next_cell": 0,
    "tags": [
     "remove_input"
    ]
   },
   "outputs": [],
   "source": [
    "p19"
   ]
  },
  {
   "cell_type": "markdown",
   "id": "82495319-86d2-4409-a927-84ddfb28b1f4",
   "metadata": {},
   "source": []
  },
  {
   "cell_type": "markdown",
   "id": "ec847392-1167-4162-b402-b77f2c29e795",
   "metadata": {},
   "source": [
    "Above is a plot showing the stark difference between male and female rating distributions for the previous month. I'll look to explore why the female rating distribution is sharply skewed right compared to the male counterpart. "
   ]
  },
  {
   "cell_type": "markdown",
   "id": "831b8576-cfc7-4be1-895b-0307cd608c14",
   "metadata": {},
   "source": [
    "### Word Cloud: First names"
   ]
  },
  {
   "cell_type": "code",
   "execution_count": null,
   "id": "f749d1b7-47b6-4afd-b2ae-e7769e3bf24f",
   "metadata": {
    "cache": false,
    "lines_to_next_cell": 2,
    "tags": [
     "remove_input"
    ]
   },
   "outputs": [],
   "source": [
    "p20"
   ]
  },
  {
   "cell_type": "markdown",
   "id": "8ca5a1a7-6254-4135-a449-d50df75c9d3a",
   "metadata": {},
   "source": [
    "### Word Cloud: Last names"
   ]
  },
  {
   "cell_type": "code",
   "execution_count": null,
   "id": "465e35d9-44ac-4526-bd50-1424211e5285",
   "metadata": {
    "cache": false,
    "lines_to_next_cell": 0,
    "tags": [
     "remove_input"
    ]
   },
   "outputs": [],
   "source": [
    "p21"
   ]
  },
  {
   "cell_type": "markdown",
   "id": "e7de89bd-b0fb-41f4-ab7f-166a053c9eec",
   "metadata": {},
   "source": [
    "\n"
   ]
  },
  {
   "cell_type": "code",
   "execution_count": null,
   "id": "c66643e4-3c43-40f8-b425-f341837bab7d",
   "metadata": {
    "eval": false,
    "fig.width": 5,
    "message": false,
    "tags": [
     "remove_input"
    ],
    "warning": false
   },
   "outputs": [],
   "source": [
    "\n",
    "# FIDE%>%\n",
    "# filter(Rating > 1000, Rating < 2900)%>%\n",
    "# group_by(Date_numeric)%>% \n",
    "# mutate(percrank=rank(Rating)/length(Rating))%>%\n",
    "# filter(Name == \"Dahiya, Anuj\") -> Anuj\n",
    "\n",
    "# library(xts)\n",
    "# library(dygraphs)\n",
    "# library(foreach)\n",
    "# library(doParallel)\n",
    "# library(stringi)\n",
    "# library(lubridate)\n",
    "\n",
    "# library(ggplot2)\n",
    "# library(gganimate)\n",
    "# library(tidyverse)\n",
    "# \n",
    "# fill_in = data.frame(value = c(), year = c())\n",
    "# for (i in seq(1, 300, by = 10)){\n",
    "#   value = rnorm(i*20)\n",
    "#   year = rep(i, length(value))+2000\n",
    "#   stuff = data.frame(value = value, year = year)\n",
    "#   fill_in = rbind(fill_in, stuff)\n",
    "# }\n",
    "# \n",
    "# \n",
    "# ggplot(data = fill_in, mapping = aes(x=value, fill=as.factor(year)))+ \n",
    "# geom_density(alpha = .3)\n",
    "# \n",
    "# \n",
    "# \n",
    "# ggplot(fill_in, aes(value)) +\n",
    "# geom_density(alpha = .3)+\n",
    "# labs(title = 'Year: {frame_time}') +\n",
    "# transition_time(year)\n",
    "\n",
    "\n",
    "\n",
    "\n",
    "# FIDE%>%\n",
    "# filter(Rating > 2830)%>%\n",
    "# .$Name%>%\n",
    "# unique() -> top_player\n",
    "# \n",
    "# #Visualize the data\n",
    "# WC_caliber_players <- FIDE%>%\n",
    "#   filter(Name %in% top_player, Activity == \"\")%>%\n",
    "#   select(Name, Rating, Date)%>%\n",
    "#   arrange(Name, Date)\n",
    "# \n",
    "# \n",
    "# dygraphed <- WC_caliber_players %>%\n",
    "#              spread(key = Name, value = Rating)%>%\n",
    "#              xts(.[,which(colnames(.)!= \"Date\")],order.by =  .$Date)\n",
    "# \n",
    "# dygraph(dygraphed, main = \"Player's rating over Time\") %>%\n",
    "#   dyOptions(drawPoints = TRUE, pointSize = 2, axisLineWidth = 4) %>%\n",
    "#   dyAxis(\"y\", label = \"Rating\", valueRange = c(1900, 3200))%>%\n",
    "#   dyRangeSelector()%>%\n",
    "#   dyLegend(width = 400)\n",
    "#\n",
    "# data <- fread(\"SEP19.csv\", sep = \"*\", data.table = FALSE)\n",
    "#\n",
    "#\n",
    "# library(ggplot2)\n",
    "# data%>%\n",
    "# mutate(Rating = as.numeric(NOV19))%>%\n",
    "# filter(Flag == \"wi\")%>%\n",
    "# na.omit()%>%\n",
    "# ggplot(aes_string(x=\"Rating\"))+\n",
    "# geom_density(size=2, alpha=.4)+\n",
    "# geom_histogram(aes(y = ..density..), bins = 50, col= \"red\")+ \n",
    "# labs(title=\"Histogram overlayed with Density curve\") +\n",
    "# labs(x=\"Rating\", y=\"Percentage of players in population\")\n",
    "\n",
    "\n",
    "# years_increment = FIDE$Date_numeric%>%\n",
    "#                   unique()%>%\n",
    "#                  .[seq(1, length(.), 1)]\n",
    "# \n",
    "# all_titled <- FIDE%>%\n",
    "#               filter(Activity %in% Active,\n",
    "#                      Rating > 960, Rating < 2900, \n",
    "#                      Title %in% c(\"FM\", \"IM\", \"GM\"))%>%\n",
    "#               select(Title,  Rating, \n",
    "#                      Date_numeric, Age_Birthday)%>%\n",
    "#               mutate(year = as.numeric(Age_Birthday))%>%\n",
    "#               filter(year > 1900, year < 2020)%>%\n",
    "#               mutate(Age = Date_numeric-year)%>%\n",
    "#               select(-Age_Birthday, -year)%>%\n",
    "#               na.omit()%>%\n",
    "#               filter(Date_numeric %in% years_increment)\n",
    "\n",
    "\n",
    "\n",
    "# find_hull <- function(df) df[chull(df$Age, df$Rating), ]\n",
    "# hulls <-plyr::ddply(all_titled, \"Title\", find_hull)\n",
    "\n",
    "# all_titled%>%\n",
    "# ggplot(aes(Age, Rating, color=Title))+ # fill = Title here\n",
    "# geom_point(alpha = .3)+\n",
    "# # geom_polygon(data = hulls, alpha = 0.5) +\n",
    "# dark_theme_bw()+\n",
    "# scale_fill_brewer(palette=\"Set1\")+\n",
    "# theme(legend.position = \"bottom\")+\n",
    "# ggtitle(\"Age vs Rating\")+\n",
    "# xlab(\"Age\")+\n",
    "# ylab(\"Rating\")+\n",
    "# labs(title = 'Year: {frame_time}')+\n",
    "# transition_time(Date_numeric)\n",
    "# \n",
    "# \n",
    "# ggplot(iris, aes(Sepal.Width, Petal.Width)) +\n",
    "# geom_point() +\n",
    "# labs(title = \"{closest_state}\") +\n",
    "# transition_states(Species, transition_length = 3, state_length = 1)\n",
    "\n",
    "\n",
    "\n",
    "# FIDE%>%\n",
    "# filter(Activity %in% Active, Title %in% regular_titles)%>%\n",
    "# transmute(Title, Rating, \n",
    "#           Date = Date_numeric,\n",
    "#           Age = Date - as.numeric(Age_Birthday))%>%\n",
    "# filter(Rating > 999, Rating < 2900, Age > 0, Age < 200) -> exp\n",
    "# \n",
    "# random = sample.int(nrow(exp), 1000)\n",
    "# \n",
    "# \n",
    "# exp[random,]%>%\n",
    "# ggplot(aes(x=Rating, y=Age, z=Date, color=Title)) + \n",
    "# dark_theme_void() +\n",
    "# axes_3D() +\n",
    "# stat_3D(theta = 10)+\n",
    "# labs_3D(labs=c(\"Rating\", \"Age\", \"Date\"))\n",
    "\n",
    "# best_titled <- FIDE%>%\n",
    "#                filter(Title %in% c(\"CM\", \"FM\", \"IM\", \"GM\"))%>%\n",
    "#                group_by(Title, Country, Date_numeric)%>%\n",
    "#                tally()%>%\n",
    "#                filter(n > 15)%>%\n",
    "#                group_by(Country)%>%\n",
    "#                filter(n() >= 400)%>%\n",
    "#                group_by(Country)%>%\n",
    "#                tally()%>%\n",
    "#                arrange(-n)%>%\n",
    "#                head(10)%>%\n",
    "#                .$Country\n",
    "# \n",
    "# FIDE%>%\n",
    "# filter(Title %in% regular_titles, Country %in% best_titled)%>%\n",
    "# group_by(Title, Country, Date_numeric, .drop = FALSE)%>%\n",
    "# tally()%>%\n",
    "# filter(Date_numeric == max(Date_numeric))%>%\n",
    "# ggplot(aes(x= Country, y =n, fill = Country))+\n",
    "#     geom_bar(stat =\"identity\")+\n",
    "#     coord_flip()+\n",
    "#     facet_wrap(~Title, scales = \"free\")+\n",
    "#     dark_theme_gray()+\n",
    "#     xlab(\"\")+ylab(\"\")+\n",
    "#     theme(axis.text=element_text(size=6))+\n",
    "#     theme(panel.grid.major = element_blank(), \n",
    "#           panel.grid.minor = element_blank(),\n",
    "#           panel.background = element_blank())+\n",
    "#     theme(legend.position = \"none\")-> p16\n",
    "\n",
    "# FIDE%>%\n",
    "# filter(Name %in% c(\"Carlsen, Magnus\", \n",
    "#                     \"Rawski, Slawomir\", \n",
    "#                     \"Anand, Viswanathan\"))%>%\n",
    "# select(Name, Rating, Date_numeric)%>%\n",
    "# ggplot(aes(x = Date_numeric, y = Rating, colour = Name))+\n",
    "# geom_line(size=1.5)+\n",
    "# dark_theme_bw()+\n",
    "# theme(legend.position = \"bottom\", \n",
    "#       plot.title = element_text(hjust = 0.5),\n",
    "#       panel.background = element_blank())+\n",
    "# xlab(\"Year\")+\n",
    "# ylab(\"Rating\")+\n",
    "# ggtitle(\"Rating over time\")+\n",
    "# guides(color=guide_legend(\"\"))\n",
    "\n",
    "\n",
    "# FIDE%>%\n",
    "# group_by(Name)%>%\n",
    "# filter(n() >= 138)%>%\n",
    "# filter(Rating > 999, Rating < 2900, \n",
    "#        Date_numeric %in% c(max(Date_numeric), min(Date_numeric)))%>%\n",
    "# group_by(Name)%>%\n",
    "# mutate(diff = Rating - lag(Rating))%>%\n",
    "# arrange(diff)%>%\n",
    "# filter(Activity %in% c(\"\", \"w\"))-> maxed\n",
    "\n",
    "\n",
    "\n",
    "# library(forcats)\n",
    "# library(ggridges)\n",
    "# \n",
    "# players <- FIDE%>%\n",
    "#            filter(Activity %in% c(\"w\", \"\"),\n",
    "#                   Rating > 1000, Rating < 2900,\n",
    "#                   Sex %in% c(\"M\", \"F\"))%>%\n",
    "#            select(Rating, Date_numeric, Sex)%>% \n",
    "#            group_by(Date_numeric)%>% \n",
    "#            sample_n(1000)%>%\n",
    "#            ungroup()\n",
    "# \n",
    "#            \n",
    "# \n",
    "# players %>%\n",
    "# mutate(Date_numeric = fct_rev(as.factor(Date_numeric%>%round()))) %>%\n",
    "# ggplot(aes(y = Date_numeric)) +\n",
    "# geom_density_ridges(aes(x = Rating, fill = paste(Date_numeric, Sex)), \n",
    "#                     alpha = .8, color = \"white\"\n",
    "#                     # , from = 0, to = 100\n",
    "#                     ) +\n",
    "# # labs(x = \"Vote (%)\", y = \"Election Year\", title = \"Indy vs Unionist vote in Catalan elections\",\n",
    "#      # subtitle = \"Analysis unit: municipalities (n = 949)\",\n",
    "#      # caption = \"Marc Belzunces (@marcbeldata) | Source: Idescat\") +\n",
    "# # scale_y_discrete(expand = c(0, 0)) +\n",
    "# # scale_x_continuous(expand = c(0, 0)) +\n",
    "# scale_fill_cyclical(breaks = c(\"Male\", \"Female\"),\n",
    "#                     labels = c(`Male` = \"Nale\", `Female` = \"Female\"),\n",
    "#                     values = c(\"#ff0000\", \"#0000ff\", \"#ff8080\", \"#8080ff\"),\n",
    "#                     name = \"Sex\", guide = \"legend\")+\n",
    "# coord_cartesian(clip = \"off\") +\n",
    "# theme_ridges(grid = FALSE)+\n",
    "# dark_theme_classic()"
   ]
  }
 ],
 "metadata": {
  "kernelspec": {
   "display_name": "R",
   "language": "R",
   "name": "ir"
  },
  "language_info": {
   "codemirror_mode": "r",
   "file_extension": ".r",
   "mimetype": "text/x-r-source",
   "name": "R",
   "pygments_lexer": "r",
   "version": "4.1.2"
  },
  "toc-autonumbering": true
 },
 "nbformat": 4,
 "nbformat_minor": 5
}
